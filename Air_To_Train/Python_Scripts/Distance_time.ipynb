{
  "nbformat": 4,
  "nbformat_minor": 0,
  "metadata": {
    "colab": {
      "name": "Distance_time.ipynb",
      "provenance": []
    },
    "kernelspec": {
      "name": "python3",
      "display_name": "Python 3"
    },
    "language_info": {
      "name": "python"
    }
  },
  "cells": [
    {
      "cell_type": "code",
      "execution_count": 4,
      "metadata": {
        "colab": {
          "base_uri": "https://localhost:8080/"
        },
        "id": "dMvGL9ifPC3H",
        "outputId": "512747f7-beba-4da8-fa77-eda2baaa090a"
      },
      "outputs": [
        {
          "output_type": "stream",
          "name": "stdout",
          "text": [
            "Collecting mpu\n",
            "  Downloading mpu-0.23.1-py3-none-any.whl (69 kB)\n",
            "\u001b[?25l\r\u001b[K     |████▊                           | 10 kB 19.0 MB/s eta 0:00:01\r\u001b[K     |█████████▍                      | 20 kB 24.5 MB/s eta 0:00:01\r\u001b[K     |██████████████                  | 30 kB 27.4 MB/s eta 0:00:01\r\u001b[K     |██████████████████▉             | 40 kB 25.2 MB/s eta 0:00:01\r\u001b[K     |███████████████████████▌        | 51 kB 18.7 MB/s eta 0:00:01\r\u001b[K     |████████████████████████████▏   | 61 kB 21.1 MB/s eta 0:00:01\r\u001b[K     |████████████████████████████████| 69 kB 6.9 MB/s \n",
            "\u001b[?25hInstalling collected packages: mpu\n",
            "Successfully installed mpu-0.23.1\n"
          ]
        }
      ],
      "source": [
        "!pip install mpu"
      ]
    },
    {
      "cell_type": "code",
      "source": [
        "import pandas as pd\n",
        "import mpu\n",
        "import os\n",
        "\n",
        "######################################\n",
        "# Add Distance and Duration to Routes#\n",
        "######################################\n",
        "\n",
        "\n",
        "def lookup(s):\n",
        "    \"\"\"\n",
        "    This is an extremely fast approach to datetime parsing.\n",
        "    For large data, the same dates are often repeated. Rather than\n",
        "    re-parse these, we store all unique dates, parse them, and\n",
        "    use a lookup to convert all dates.\n",
        "    \"\"\"\n",
        "    dates = {date: pd.to_datetime(date) for date in s.unique()}\n",
        "    return s.map(dates)"
      ],
      "metadata": {
        "id": "Tk3omSt3hoE3"
      },
      "execution_count": 5,
      "outputs": []
    },
    {
      "cell_type": "code",
      "source": [
        "def calculate_route_durations(df):\n",
        "    route_durations = {}\n",
        "    df['time'] = lookup(df['time'])\n",
        "    route_ids = df['route_number'].unique()\n",
        "\n",
        "    for route_id in route_ids:\n",
        "        route_df = df[df['route_number'] == route_id]\n",
        "\n",
        "        start_row = route_df[route_df['route_start'] == True]\n",
        "        end_row = route_df[route_df['route_end'] == True]\n",
        "\n",
        "        has_start_and_end = True\n",
        "        if len(start_row) == 0:\n",
        "            print('No start for route: ', route_id)\n",
        "            has_start_and_end = False\n",
        "\n",
        "        if len(end_row) == 0:\n",
        "            print('No end for route: ', route_id)\n",
        "            has_start_and_end = False\n",
        "\n",
        "        if has_start_and_end:\n",
        "            start_time = start_row['time'].iloc[0]\n",
        "            end_time = end_row['time'].iloc[0]\n",
        "\n",
        "            if end_time < start_time:\n",
        "                print('End time earlier than start time for route number ', route_id)\n",
        "                print()\n",
        "\n",
        "            route_duration = end_time - start_time\n",
        "            # print('route_duration ', route_duration)\n",
        "\n",
        "            duration_in_seconds = route_duration.total_seconds()\n",
        "\n",
        "            print('Route ', route_id, ' duration in seconds ', duration_in_seconds)\n",
        "\n",
        "            route_durations[route_id] = duration_in_seconds\n",
        "\n",
        "    duration_df = pd.DataFrame(list(route_durations.items()), columns=['route_number', 'duration_in_seconds'])\n",
        "    return duration_df"
      ],
      "metadata": {
        "id": "-U9yesi9g33j"
      },
      "execution_count": 6,
      "outputs": []
    },
    {
      "cell_type": "code",
      "source": [
        "def distance_between_gps(gps_one, gps_two):\n",
        "    km_distance = mpu.haversine_distance((gps_one[0], gps_one[1]), (gps_two[0], gps_two[1]))\n",
        "\n",
        "    if km_distance < 0:\n",
        "        print('got negative distance that\\'s weak')\n",
        "        km_distance *= -1\n",
        "\n",
        "    return km_distance"
      ],
      "metadata": {
        "id": "G797MFWMg358"
      },
      "execution_count": 7,
      "outputs": []
    },
    {
      "cell_type": "code",
      "source": [
        "\n",
        "def calculate_route_distances(df):\n",
        "    route_distances = {}\n",
        "    df['time'] = lookup(df['time'])\n",
        "    route_ids = df['route_number'].unique()\n",
        "\n",
        "    for route_id in route_ids:\n",
        "        route_df = df[df['route_number'] == route_id]\n",
        "        route_df.sort_values('time')\n",
        "        route_df.reset_index(drop=True)\n",
        "\n",
        "        distance_sum = 0.0\n",
        "        is_first_row = True\n",
        "\n",
        "        print('starting on route number', route_id)\n",
        "        print(route_df.index)\n",
        "\n",
        "        for index, row in route_df.iterrows():\n",
        "            print('index', index)\n",
        "            if not is_first_row:\n",
        "                last_row = route_df.loc[index - 1]\n",
        "                last_lat = last_row['latitude']\n",
        "                last_long = last_row['longitude']\n",
        "                last_gps = (last_lat, last_long)\n",
        "\n",
        "                current_lat = row['latitude']\n",
        "                current_long = row['longitude']\n",
        "                current_gps = (current_lat, current_long)\n",
        "\n",
        "                distance_between_rows = distance_between_gps(last_gps, current_gps)\n",
        "                print('distance between rows', distance_between_rows)\n",
        "\n",
        "                distance_sum += distance_between_rows\n",
        "            else:\n",
        "                is_first_row = False\n",
        "\n",
        "        route_distances[route_id] = distance_sum\n",
        "\n",
        "    distance_df = pd.DataFrame(list(route_distances.items()), columns=['route_number', 'distance_in_km'])\n",
        "    return distance_df\n"
      ],
      "metadata": {
        "id": "kjZYwOX6g38s"
      },
      "execution_count": 8,
      "outputs": []
    },
    {
      "cell_type": "code",
      "source": [
        "def merge_distance_time_into_route_df(dt_df, df):\n",
        "    route_dfs = []\n",
        "    route_ids = df['route_number'].unique()\n",
        "\n",
        "    for route_id in route_ids:\n",
        "        route_df = df[df['route_number'] == route_id]\n",
        "        distance_time_df = dt_df[dt_df['route_number'] == route_id]\n",
        "\n",
        "        distance = distance_time_df['distance_in_km'].iloc[0]\n",
        "        time = distance_time_df['duration_in_seconds'].iloc[0]\n",
        "\n",
        "        route_df['distance_in_km'] = distance\n",
        "        route_df['duration_in_seconds'] = time\n",
        "\n",
        "        route_dfs.append(route_df)\n",
        "\n",
        "    return pd.concat(route_dfs)"
      ],
      "metadata": {
        "id": "TQ678goPg3_P"
      },
      "execution_count": 9,
      "outputs": []
    },
    {
      "cell_type": "code",
      "source": [
        "def reduce_dataframe_by_col(df, col_name):\n",
        "    row_dfs = []\n",
        "    unique_values = df[col_name].unique()\n",
        "\n",
        "    for val in unique_values:\n",
        "        val_df = df[df[col_name] == val]\n",
        "\n",
        "        row_dfs.append(val_df.iloc[[0]])\n",
        "\n",
        "    return pd.concat(row_dfs)\n"
      ],
      "metadata": {
        "id": "kF62qRbjhEtL"
      },
      "execution_count": 10,
      "outputs": []
    },
    {
      "cell_type": "code",
      "source": [
        "def load_google_map_dfs():\n",
        "    column_names = ['latitude', 'longitude']\n",
        "    file_names = ['BottomRoute.csv', 'MiddleRoute.csv', 'TopRoute.csv', 'TrainToAirMiddle.csv']\n",
        "    base_path = os.getcwd()\n",
        "\n",
        "    bottom_df = pd.read_csv(base_path + '/' + file_names[0])\n",
        "    bottom_df.columns = column_names\n",
        "\n",
        "    middle_df = pd.read_csv(base_path + '/' + file_names[1])\n",
        "    middle_df.columns = column_names\n",
        "\n",
        "    middle_df2 = pd.read_csv(base_path + '/' + file_names[3])\n",
        "    middle_df2.columns = column_names\n",
        "\n",
        "    top_df = pd.read_csv(base_path + '/' + file_names[2])\n",
        "    top_df.columns = column_names\n",
        "\n",
        "    return bottom_df, middle_df, middle_df2, top_df"
      ],
      "metadata": {
        "id": "yBVQq1w7g4Cp"
      },
      "execution_count": 11,
      "outputs": []
    },
    {
      "cell_type": "code",
      "source": [
        ""
      ],
      "metadata": {
        "id": "NxKYZtbjh-l7"
      },
      "execution_count": null,
      "outputs": []
    }
  ]
}