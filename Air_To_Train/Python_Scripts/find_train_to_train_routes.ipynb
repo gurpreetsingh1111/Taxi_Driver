{
  "nbformat": 4,
  "nbformat_minor": 0,
  "metadata": {
    "colab": {
      "name": "find_train_to_train_routes.ipynb",
      "provenance": []
    },
    "kernelspec": {
      "name": "python3",
      "display_name": "Python 3"
    },
    "language_info": {
      "name": "python"
    }
  },
  "cells": [
    {
      "cell_type": "code",
      "execution_count": 2,
      "metadata": {
        "colab": {
          "base_uri": "https://localhost:8080/"
        },
        "id": "4olaZw3jZJod",
        "outputId": "7bde7388-b043-499b-8a01-2718b7568e81"
      },
      "outputs": [
        {
          "output_type": "stream",
          "name": "stdout",
          "text": [
            "Collecting mpu\n",
            "  Downloading mpu-0.23.1-py3-none-any.whl (69 kB)\n",
            "\u001b[?25l\r\u001b[K     |████▊                           | 10 kB 25.5 MB/s eta 0:00:01\r\u001b[K     |█████████▍                      | 20 kB 13.4 MB/s eta 0:00:01\r\u001b[K     |██████████████                  | 30 kB 8.4 MB/s eta 0:00:01\r\u001b[K     |██████████████████▉             | 40 kB 8.5 MB/s eta 0:00:01\r\u001b[K     |███████████████████████▌        | 51 kB 3.9 MB/s eta 0:00:01\r\u001b[K     |████████████████████████████▏   | 61 kB 4.6 MB/s eta 0:00:01\r\u001b[K     |████████████████████████████████| 69 kB 2.2 MB/s \n",
            "\u001b[?25hInstalling collected packages: mpu\n",
            "Successfully installed mpu-0.23.1\n"
          ]
        }
      ],
      "source": [
        "! pip install mpu"
      ]
    },
    {
      "cell_type": "code",
      "source": [
        "import pandas as pd\n",
        "import os\n",
        "import mpu"
      ],
      "metadata": {
        "id": "LcLAztpqaxV3"
      },
      "execution_count": 3,
      "outputs": []
    },
    {
      "cell_type": "code",
      "source": [
        "def filter_data_by_gps(df, min_lat, max_lat, min_long, max_long, with_pass=False):\n",
        "    \"\"\"\n",
        "    :param df: data-frame with latitude and longitude columns\n",
        "    :param min_lat: minimum latitude value\n",
        "    :param max_lat: max latitude value\n",
        "    :param min_long: min longitude\n",
        "    :param max_long: max longitude\n",
        "    :param with_pass: required to have a passenger (occupancy_status column)\n",
        "    :return: data-frame\n",
        "    \"\"\"\n",
        "    all_taxi_ids = df['taxi_id'].unique()\n",
        "    print('There are ', len(all_taxi_ids), ' taxi ids in this dataset!')\n",
        "\n",
        "    near_lat = df[(df['latitude'] >= min_lat) & (df['latitude'] <= max_lat)] # 0.0203\n",
        "    print('There are ', len(near_lat), ' GPS readings in your latitude range!')\n",
        "\n",
        "    near_lat_and_long = near_lat[(near_lat['longitude'] >= min_long) & (near_lat['longitude'] <= max_long)] #0.022334\n",
        "\n",
        "    print('There are ', len(near_lat_and_long), ' GPS readings in your latitude and longitude range!')\n",
        "    taxi_ids = near_lat_and_long['taxi_id'].unique()\n",
        "    print('There are ', len(taxi_ids), ' taxi ids in your latitude and longitude range!')\n",
        "\n",
        "    if with_pass:\n",
        "        with_pass = near_lat_and_long[near_lat_and_long['occupancy_status'] == 1]\n",
        "        print('There are ', len(with_pass), ' GPS readings in your latitude and longitude range with a passenger!')\n",
        "        with_pass_ids = with_pass['taxi_id'].unique()\n",
        "        print('There are ', len(with_pass_ids), ' taxi ids in your latitude and longitude range with a passenger!')\n",
        "        return with_pass\n",
        "    else:\n",
        "        return near_lat_and_long"
      ],
      "metadata": {
        "id": "t6IfXNvwZSQk"
      },
      "execution_count": 6,
      "outputs": []
    },
    {
      "cell_type": "code",
      "source": [
        "# Shenzhen Train station west GPS 22.5316,113.903\n",
        "df = pd.DataFrame()\n",
        "train_station_west_gps = (22.5316, 113.903)\n",
        "lat_diff = 0.025\n",
        "long_diff = 0.025\n",
        "\n",
        "near_west_train_df = filter_data_by_gps(df,\n",
        "                                        train_station_west_gps[0] - lat_diff,\n",
        "                                        train_station_west_gps[0] + lat_diff,\n",
        "                                        train_station_west_gps[1] - long_diff,\n",
        "                                        train_station_west_gps[1] + long_diff,\n",
        "                                        with_pass=True)\n",
        "\n",
        "\n",
        "train_station_north_gps_min = (22.605502, 114.023724)\n",
        "train_station_north_gps_max = (22.613580, 114.034568)\n",
        "\n",
        "near_north_train_df = filter_data_by_gps(df,\n",
        "                                         train_station_north_gps_min[0],\n",
        "                                         train_station_north_gps_max[0],\n",
        "                                         train_station_north_gps_min[1],\n",
        "                                         train_station_north_gps_max[1],\n",
        "                                         with_pass=True)\n"
      ],
      "metadata": {
        "colab": {
          "base_uri": "https://localhost:8080/",
          "height": 502
        },
        "id": "MkfFr7GdZSTR",
        "outputId": "84771719-2356-481d-ab14-db53088e8da7"
      },
      "execution_count": 8,
      "outputs": [
        {
          "output_type": "error",
          "ename": "KeyError",
          "evalue": "ignored",
          "traceback": [
            "\u001b[0;31m---------------------------------------------------------------------------\u001b[0m",
            "\u001b[0;31mKeyError\u001b[0m                                  Traceback (most recent call last)",
            "\u001b[0;32m/usr/local/lib/python3.7/dist-packages/pandas/core/indexes/base.py\u001b[0m in \u001b[0;36mget_loc\u001b[0;34m(self, key, method, tolerance)\u001b[0m\n\u001b[1;32m   3360\u001b[0m             \u001b[0;32mtry\u001b[0m\u001b[0;34m:\u001b[0m\u001b[0;34m\u001b[0m\u001b[0;34m\u001b[0m\u001b[0m\n\u001b[0;32m-> 3361\u001b[0;31m                 \u001b[0;32mreturn\u001b[0m \u001b[0mself\u001b[0m\u001b[0;34m.\u001b[0m\u001b[0m_engine\u001b[0m\u001b[0;34m.\u001b[0m\u001b[0mget_loc\u001b[0m\u001b[0;34m(\u001b[0m\u001b[0mcasted_key\u001b[0m\u001b[0;34m)\u001b[0m\u001b[0;34m\u001b[0m\u001b[0;34m\u001b[0m\u001b[0m\n\u001b[0m\u001b[1;32m   3362\u001b[0m             \u001b[0;32mexcept\u001b[0m \u001b[0mKeyError\u001b[0m \u001b[0;32mas\u001b[0m \u001b[0merr\u001b[0m\u001b[0;34m:\u001b[0m\u001b[0;34m\u001b[0m\u001b[0;34m\u001b[0m\u001b[0m\n",
            "\u001b[0;32m/usr/local/lib/python3.7/dist-packages/pandas/_libs/index.pyx\u001b[0m in \u001b[0;36mpandas._libs.index.IndexEngine.get_loc\u001b[0;34m()\u001b[0m\n",
            "\u001b[0;32m/usr/local/lib/python3.7/dist-packages/pandas/_libs/index.pyx\u001b[0m in \u001b[0;36mpandas._libs.index.IndexEngine.get_loc\u001b[0;34m()\u001b[0m\n",
            "\u001b[0;32mpandas/_libs/hashtable_class_helper.pxi\u001b[0m in \u001b[0;36mpandas._libs.hashtable.PyObjectHashTable.get_item\u001b[0;34m()\u001b[0m\n",
            "\u001b[0;32mpandas/_libs/hashtable_class_helper.pxi\u001b[0m in \u001b[0;36mpandas._libs.hashtable.PyObjectHashTable.get_item\u001b[0;34m()\u001b[0m\n",
            "\u001b[0;31mKeyError\u001b[0m: 'taxi_id'",
            "\nThe above exception was the direct cause of the following exception:\n",
            "\u001b[0;31mKeyError\u001b[0m                                  Traceback (most recent call last)",
            "\u001b[0;32m<ipython-input-8-0440aaaff5f2>\u001b[0m in \u001b[0;36m<module>\u001b[0;34m()\u001b[0m\n\u001b[1;32m     10\u001b[0m                                         \u001b[0mtrain_station_west_gps\u001b[0m\u001b[0;34m[\u001b[0m\u001b[0;36m1\u001b[0m\u001b[0;34m]\u001b[0m \u001b[0;34m-\u001b[0m \u001b[0mlong_diff\u001b[0m\u001b[0;34m,\u001b[0m\u001b[0;34m\u001b[0m\u001b[0;34m\u001b[0m\u001b[0m\n\u001b[1;32m     11\u001b[0m                                         \u001b[0mtrain_station_west_gps\u001b[0m\u001b[0;34m[\u001b[0m\u001b[0;36m1\u001b[0m\u001b[0;34m]\u001b[0m \u001b[0;34m+\u001b[0m \u001b[0mlong_diff\u001b[0m\u001b[0;34m,\u001b[0m\u001b[0;34m\u001b[0m\u001b[0;34m\u001b[0m\u001b[0m\n\u001b[0;32m---> 12\u001b[0;31m                                         with_pass=True)\n\u001b[0m\u001b[1;32m     13\u001b[0m \u001b[0;34m\u001b[0m\u001b[0m\n\u001b[1;32m     14\u001b[0m \u001b[0;34m\u001b[0m\u001b[0m\n",
            "\u001b[0;32m<ipython-input-6-74ce7902906e>\u001b[0m in \u001b[0;36mfilter_data_by_gps\u001b[0;34m(df, min_lat, max_lat, min_long, max_long, with_pass)\u001b[0m\n\u001b[1;32m      9\u001b[0m     \u001b[0;34m:\u001b[0m\u001b[0;32mreturn\u001b[0m\u001b[0;34m:\u001b[0m \u001b[0mdata\u001b[0m\u001b[0;34m-\u001b[0m\u001b[0mframe\u001b[0m\u001b[0;34m\u001b[0m\u001b[0;34m\u001b[0m\u001b[0m\n\u001b[1;32m     10\u001b[0m     \"\"\"\n\u001b[0;32m---> 11\u001b[0;31m     \u001b[0mall_taxi_ids\u001b[0m \u001b[0;34m=\u001b[0m \u001b[0mdf\u001b[0m\u001b[0;34m[\u001b[0m\u001b[0;34m'taxi_id'\u001b[0m\u001b[0;34m]\u001b[0m\u001b[0;34m.\u001b[0m\u001b[0munique\u001b[0m\u001b[0;34m(\u001b[0m\u001b[0;34m)\u001b[0m\u001b[0;34m\u001b[0m\u001b[0;34m\u001b[0m\u001b[0m\n\u001b[0m\u001b[1;32m     12\u001b[0m     \u001b[0mprint\u001b[0m\u001b[0;34m(\u001b[0m\u001b[0;34m'There are '\u001b[0m\u001b[0;34m,\u001b[0m \u001b[0mlen\u001b[0m\u001b[0;34m(\u001b[0m\u001b[0mall_taxi_ids\u001b[0m\u001b[0;34m)\u001b[0m\u001b[0;34m,\u001b[0m \u001b[0;34m' taxi ids in this dataset!'\u001b[0m\u001b[0;34m)\u001b[0m\u001b[0;34m\u001b[0m\u001b[0;34m\u001b[0m\u001b[0m\n\u001b[1;32m     13\u001b[0m \u001b[0;34m\u001b[0m\u001b[0m\n",
            "\u001b[0;32m/usr/local/lib/python3.7/dist-packages/pandas/core/frame.py\u001b[0m in \u001b[0;36m__getitem__\u001b[0;34m(self, key)\u001b[0m\n\u001b[1;32m   3456\u001b[0m             \u001b[0;32mif\u001b[0m \u001b[0mself\u001b[0m\u001b[0;34m.\u001b[0m\u001b[0mcolumns\u001b[0m\u001b[0;34m.\u001b[0m\u001b[0mnlevels\u001b[0m \u001b[0;34m>\u001b[0m \u001b[0;36m1\u001b[0m\u001b[0;34m:\u001b[0m\u001b[0;34m\u001b[0m\u001b[0;34m\u001b[0m\u001b[0m\n\u001b[1;32m   3457\u001b[0m                 \u001b[0;32mreturn\u001b[0m \u001b[0mself\u001b[0m\u001b[0;34m.\u001b[0m\u001b[0m_getitem_multilevel\u001b[0m\u001b[0;34m(\u001b[0m\u001b[0mkey\u001b[0m\u001b[0;34m)\u001b[0m\u001b[0;34m\u001b[0m\u001b[0;34m\u001b[0m\u001b[0m\n\u001b[0;32m-> 3458\u001b[0;31m             \u001b[0mindexer\u001b[0m \u001b[0;34m=\u001b[0m \u001b[0mself\u001b[0m\u001b[0;34m.\u001b[0m\u001b[0mcolumns\u001b[0m\u001b[0;34m.\u001b[0m\u001b[0mget_loc\u001b[0m\u001b[0;34m(\u001b[0m\u001b[0mkey\u001b[0m\u001b[0;34m)\u001b[0m\u001b[0;34m\u001b[0m\u001b[0;34m\u001b[0m\u001b[0m\n\u001b[0m\u001b[1;32m   3459\u001b[0m             \u001b[0;32mif\u001b[0m \u001b[0mis_integer\u001b[0m\u001b[0;34m(\u001b[0m\u001b[0mindexer\u001b[0m\u001b[0;34m)\u001b[0m\u001b[0;34m:\u001b[0m\u001b[0;34m\u001b[0m\u001b[0;34m\u001b[0m\u001b[0m\n\u001b[1;32m   3460\u001b[0m                 \u001b[0mindexer\u001b[0m \u001b[0;34m=\u001b[0m \u001b[0;34m[\u001b[0m\u001b[0mindexer\u001b[0m\u001b[0;34m]\u001b[0m\u001b[0;34m\u001b[0m\u001b[0;34m\u001b[0m\u001b[0m\n",
            "\u001b[0;32m/usr/local/lib/python3.7/dist-packages/pandas/core/indexes/base.py\u001b[0m in \u001b[0;36mget_loc\u001b[0;34m(self, key, method, tolerance)\u001b[0m\n\u001b[1;32m   3361\u001b[0m                 \u001b[0;32mreturn\u001b[0m \u001b[0mself\u001b[0m\u001b[0;34m.\u001b[0m\u001b[0m_engine\u001b[0m\u001b[0;34m.\u001b[0m\u001b[0mget_loc\u001b[0m\u001b[0;34m(\u001b[0m\u001b[0mcasted_key\u001b[0m\u001b[0;34m)\u001b[0m\u001b[0;34m\u001b[0m\u001b[0;34m\u001b[0m\u001b[0m\n\u001b[1;32m   3362\u001b[0m             \u001b[0;32mexcept\u001b[0m \u001b[0mKeyError\u001b[0m \u001b[0;32mas\u001b[0m \u001b[0merr\u001b[0m\u001b[0;34m:\u001b[0m\u001b[0;34m\u001b[0m\u001b[0;34m\u001b[0m\u001b[0m\n\u001b[0;32m-> 3363\u001b[0;31m                 \u001b[0;32mraise\u001b[0m \u001b[0mKeyError\u001b[0m\u001b[0;34m(\u001b[0m\u001b[0mkey\u001b[0m\u001b[0;34m)\u001b[0m \u001b[0;32mfrom\u001b[0m \u001b[0merr\u001b[0m\u001b[0;34m\u001b[0m\u001b[0;34m\u001b[0m\u001b[0m\n\u001b[0m\u001b[1;32m   3364\u001b[0m \u001b[0;34m\u001b[0m\u001b[0m\n\u001b[1;32m   3365\u001b[0m         \u001b[0;32mif\u001b[0m \u001b[0mis_scalar\u001b[0m\u001b[0;34m(\u001b[0m\u001b[0mkey\u001b[0m\u001b[0;34m)\u001b[0m \u001b[0;32mand\u001b[0m \u001b[0misna\u001b[0m\u001b[0;34m(\u001b[0m\u001b[0mkey\u001b[0m\u001b[0;34m)\u001b[0m \u001b[0;32mand\u001b[0m \u001b[0;32mnot\u001b[0m \u001b[0mself\u001b[0m\u001b[0;34m.\u001b[0m\u001b[0mhasnans\u001b[0m\u001b[0;34m:\u001b[0m\u001b[0;34m\u001b[0m\u001b[0;34m\u001b[0m\u001b[0m\n",
            "\u001b[0;31mKeyError\u001b[0m: 'taxi_id'"
          ]
        }
      ]
    },
    {
      "cell_type": "code",
      "source": [
        "def get_gps_records_with_taxi_id_in(taxi_id_list, df):\n",
        "    return df[df['taxi_id'].isin(taxi_id_list)]\n",
        "\n",
        "\n",
        "def find_column_intersection(df1, df2, col_name):\n",
        "    \"\"\"\n",
        "    :param df1: data-frame\n",
        "    :param df2: data-frame\n",
        "    :param col_name: name of column\n",
        "    :return: list of values in both columns\n",
        "    \"\"\"\n",
        "\n",
        "    col_one_unique = df1[col_name].unique()\n",
        "    col_two_unique = df2[col_name].unique()\n",
        "    intersection = list(set(col_one_unique) & set(col_two_unique))\n",
        "\n",
        "    return intersection\n"
      ],
      "metadata": {
        "id": "qtShx4hkZSWE"
      },
      "execution_count": 9,
      "outputs": []
    },
    {
      "cell_type": "code",
      "source": [
        "def get_rows_with_col_value_in(df, val_list, col_name):\n",
        "    return df[df[col_name].isin(val_list)]\n",
        "\n",
        "\n",
        "def load_google_map_dfs():\n",
        "    base_path = os.getcwd()\n",
        "    dfs = []\n",
        "    column_names = ['latitude', 'longitude']\n",
        "\n",
        "    file_names = ['North-Train-To-West-Left-Google-Maps-Route.csv',\n",
        "                  'North-Train-To-West-Middle-Google-Maps-Route.csv',\n",
        "                  'West-Train-To-North-Bottom-Google-Maps-Route.csv',\n",
        "                  'West-Train-To-North-Middle-Google-Maps-Route.csv',\n",
        "                  'West-Train-To-North-Top-Google-Maps-Route.csv'\n",
        "                  ]\n",
        "\n",
        "    for file_name in file_names:\n",
        "        df = pd.read_csv(base_path + '/' + file_name)\n",
        "        df.columns = column_names\n",
        "        dfs.append(df)\n",
        "\n",
        "    return dfs"
      ],
      "metadata": {
        "id": "53PniASXZSZE"
      },
      "execution_count": 10,
      "outputs": []
    },
    {
      "cell_type": "code",
      "source": [
        "def concat(row, col):\n",
        "    return str(row) + '-' + str(col)\n",
        "\n",
        "\n",
        "def map_gps_to_box(latitude, longitude):\n",
        "    row_number = int((latitude - min_lat) // cell_size)\n",
        "    col_number = int((longitude - min_long) // cell_size)\n",
        "\n",
        "    if col_number < 0 or row_number < 0:\n",
        "        return -1, -1, -1\n",
        "\n",
        "    cell_number_str = str(row_number) + str(col_number)\n",
        "\n",
        "    return concat(row_number, col_number), row_number, col_number"
      ],
      "metadata": {
        "id": "QEoEfNUKZSbE"
      },
      "execution_count": 11,
      "outputs": []
    },
    {
      "cell_type": "code",
      "source": [
        "def map_gps_to_cell(df):\n",
        "    cells = []\n",
        "    rows = []\n",
        "    cols = []\n",
        "\n",
        "    for index, row in df.iterrows():\n",
        "        lat = row['latitude']\n",
        "        long = row['longitude']\n",
        "\n",
        "        cell_number, cell_row, cell_col = map_gps_to_box(lat, long)\n",
        "\n",
        "        cells.append(cell_number)\n",
        "        cols.append(cell_col)\n",
        "        rows.append(cell_row)\n",
        "\n",
        "    df['cell'] = cells\n",
        "    df['row'] = rows\n",
        "    df['column'] = cols\n",
        "\n",
        "    return df"
      ],
      "metadata": {
        "id": "z7PqfPfLZSdY"
      },
      "execution_count": 12,
      "outputs": []
    },
    {
      "cell_type": "code",
      "source": [
        "def map_google_maps_routes_to_cells(df_list):\n",
        "    with_cells = []\n",
        "    for df in df_list:\n",
        "        df = map_gps_to_cell(df)\n",
        "        with_cells.append(df)\n",
        "    return with_cells"
      ],
      "metadata": {
        "id": "OVWoylR0ZSge"
      },
      "execution_count": 13,
      "outputs": []
    },
    {
      "cell_type": "code",
      "source": [
        "def save_google_maps_routes_with_cells(route_df_list):\n",
        "    file_names = ['North-Train-To-West-Left-Google-Maps-Route-Cells.csv',\n",
        "                  'North-Train-To-West-Middle-Google-Maps-Route-Cells.csv',\n",
        "                  'West-Train-To-North-Bottom-Google-Maps-Route-Cells.csv',\n",
        "                  'West-Train-To-North-Middle-Google-Maps-Route-Cells.csv',\n",
        "                  'West-Train-To-North-Top-Google-Maps-Route-Cells.csv'\n",
        "                  ]\n",
        "\n",
        "    for index, df in enumerate(route_df_list):\n",
        "        df.to_csv(file_names[index], encoding='utf-8', index=False)\n",
        "\n",
        "    return"
      ],
      "metadata": {
        "id": "fRa1Ta4qZSjI"
      },
      "execution_count": 14,
      "outputs": []
    },
    {
      "cell_type": "code",
      "source": [
        "def plot_suspected_fraud_vs_google_maps(google_map_dfs, route_number, df, title, show=True):\n",
        "    plot = graph_google_map_routes(google_map_dfs, title, one_color=True, return_plot=True)\n",
        "\n",
        "    route_df = df[df['route_number'] == route_number]\n",
        "    print('Route ', route_number, ' has ', len(route_df), ' readings!')\n",
        "\n",
        "    plot = add_route_to_plot(plot, route_df)\n",
        "    plot.savefig(title + '.png')\n",
        "\n",
        "    if show:\n",
        "        plot.show()\n",
        "    else:\n",
        "        plot.clf()"
      ],
      "metadata": {
        "id": "hu2oRHbYZSlr"
      },
      "execution_count": 15,
      "outputs": []
    },
    {
      "cell_type": "code",
      "source": [
        "def graph_all_routes_against_google_maps(df, google_maps_dfs, north_to_west=True):\n",
        "    route_numbers = df['route_number'].unique()\n",
        "\n",
        "    for route_number in route_numbers:\n",
        "        if north_to_west:\n",
        "            if route_number != 59994 and route_number != 572818:\n",
        "                plot_title = 'North to West Train Route ' + str(route_number)\n",
        "        else:\n",
        "            plot_title = 'West to North Train Route ' + str(route_number)\n",
        "\n",
        "        plot_suspected_fraud_vs_google_maps(google_maps_dfs, route_number, df, plot_title, show=False)\n",
        "\n",
        "    print('Done creating route graphs!')\n",
        "    return"
      ],
      "metadata": {
        "id": "7uialpMRZSoa"
      },
      "execution_count": 16,
      "outputs": []
    },
    {
      "cell_type": "code",
      "source": [
        "def find_routes_with_ten_readings(df, route_numbers, min_num_readings=10, verbose=False):\n",
        "    routes = []\n",
        "\n",
        "    for number in route_numbers:\n",
        "        route_df = df[df['route_number'] == number]\n",
        "\n",
        "        if len(route_df) >= min_num_readings:\n",
        "            routes.append(route_df)\n",
        "        elif verbose:\n",
        "            print('Route: ', number, ' only has ', len(route_df), ' readings!')\n",
        "\n",
        "    print('Found', len(routes), 'routes that have', min_num_readings, 'or more readings')\n",
        "\n",
        "    return pd.concat(routes)"
      ],
      "metadata": {
        "id": "DAze7qmEZSq7"
      },
      "execution_count": 17,
      "outputs": []
    },
    {
      "cell_type": "code",
      "source": [
        "def lookup(s):\n",
        "    \"\"\"\n",
        "    This is an extremely fast approach to datetime parsing.\n",
        "    For large data, the same dates are often repeated. Rather than\n",
        "    re-parse these, we store all unique dates, parse them, and\n",
        "    use a lookup to convert all dates.\n",
        "    \"\"\"\n",
        "    dates = {date: pd.to_datetime(date) for date in s.unique()}\n",
        "    return s.map(dates)"
      ],
      "metadata": {
        "id": "jh7Xr_8NZStm"
      },
      "execution_count": 18,
      "outputs": []
    },
    {
      "cell_type": "code",
      "source": [
        "def remove_routes_with_corrupt_start_end_times_and_calc_duration(df):\n",
        "    route_durations = {}\n",
        "    proper_route_numbers = []\n",
        "\n",
        "    df['time'] = lookup(df['time'])\n",
        "    route_ids = df['route_number'].unique()\n",
        "\n",
        "    for route_id in route_ids:\n",
        "        route_df = df[df['route_number'] == route_id]\n",
        "\n",
        "        start_row = route_df[route_df['route_start'] == True]\n",
        "        end_row = route_df[route_df['route_end'] == True]\n",
        "\n",
        "        has_start_and_end = True\n",
        "        if len(start_row) == 0:\n",
        "            print('No start for route: ', route_id)\n",
        "            has_start_and_end = False\n",
        "\n",
        "        if len(end_row) == 0:\n",
        "            print('No end for route: ', route_id)\n",
        "            has_start_and_end = False\n",
        "\n",
        "        if has_start_and_end:\n",
        "            start_time = start_row['time'].iloc[0]\n",
        "            end_time = end_row['time'].iloc[0]\n",
        "\n",
        "            if start_time < end_time:\n",
        "                route_duration = end_time - start_time\n",
        "                duration_in_seconds = route_duration.total_seconds()\n",
        "                route_durations[route_id] = duration_in_seconds\n",
        "                proper_route_numbers.append(route_id)\n",
        "\n",
        "    duration_df = pd.DataFrame(list(route_durations.items()), columns=['route_number', 'duration_in_seconds'])\n",
        "    return duration_df, df[df['route_number'].isin(proper_route_numbers)]"
      ],
      "metadata": {
        "id": "gg31irUHZSwr"
      },
      "execution_count": 19,
      "outputs": []
    },
    {
      "cell_type": "code",
      "source": [
        "def find_fraud_routes_by_time_distance(df, avg_time, avg_distance):\n",
        "    return df[(df['distance_in_km'] >= avg_distance) & (df['duration_in_seconds'] >= avg_time)]\n",
        "\n",
        "\n",
        "def distance_between_gps(gps_one, gps_two):\n",
        "    # mpu.haversine_distance((lat1, lon1), (lat2, lon2))\n",
        "    km_distance = mpu.haversine_distance((gps_one[0], gps_one[1]), (gps_two[0], gps_two[1]))\n",
        "\n",
        "    if km_distance < 0:\n",
        "        print('got negative distance that\\'s weak')\n",
        "        km_distance *= -1\n",
        "\n",
        "    return km_distance"
      ],
      "metadata": {
        "id": "K7tkmNiIZSzU"
      },
      "execution_count": 20,
      "outputs": []
    },
    {
      "cell_type": "code",
      "source": [
        "def remove_routes_with_excessive_distances(df):\n",
        "    proper_route_numbers = []\n",
        "    df['time'] = lookup(df['time'])\n",
        "    route_ids = df['route_number'].unique()\n",
        "\n",
        "    for route_id in route_ids:\n",
        "        route_df = df[df['route_number'] == route_id]\n",
        "        route_df.sort_values('time')\n",
        "        route_df.reset_index(drop=True)\n",
        "\n",
        "        distance_sum = 0.0\n",
        "        is_first_row = True\n",
        "\n",
        "        for index, row in route_df.iterrows():\n",
        "            if not is_first_row:\n",
        "                last_row = route_df.loc[index - 1]\n",
        "                last_lat = last_row['latitude']\n",
        "                last_long = last_row['longitude']\n",
        "                last_gps = (last_lat, last_long)\n",
        "\n",
        "                current_lat = row['latitude']\n",
        "                current_long = row['longitude']\n",
        "                current_gps = (current_lat, current_long)\n",
        "\n",
        "                distance_between_rows = distance_between_gps(last_gps, current_gps)\n",
        "                distance_sum += distance_between_rows\n",
        "            else:\n",
        "                is_first_row = False\n",
        "\n",
        "        if distance_sum < 100:\n",
        "            proper_route_numbers.append(route_id)\n",
        "        else:\n",
        "            print('Route ', route_id, ' has excessive distance: ', distance_sum)\n",
        "\n",
        "    return df[df['route_number'].isin(proper_route_numbers)]\n"
      ],
      "metadata": {
        "id": "Ka5zrxs5ZS2W"
      },
      "execution_count": 21,
      "outputs": []
    },
    {
      "cell_type": "code",
      "source": [
        "def get_suspected_fraud_by_time_distance(df, text_file_name):\n",
        "    f = open(text_file_name, 'r')\n",
        "    fraud_numbers = [line.rstrip() for line in f]\n",
        "    print('Fraud numbers: ', fraud_numbers)\n",
        "    f.close()\n",
        "\n",
        "    return df[df['route_number'].isin(fraud_numbers)]\n"
      ],
      "metadata": {
        "id": "1sQhJgR_ZS5F"
      },
      "execution_count": 22,
      "outputs": []
    },
    {
      "cell_type": "code",
      "source": [
        ""
      ],
      "metadata": {
        "id": "uLGlkV__ZS7y"
      },
      "execution_count": null,
      "outputs": []
    },
    {
      "cell_type": "code",
      "source": [
        ""
      ],
      "metadata": {
        "id": "zdkqxMKGZS-n"
      },
      "execution_count": null,
      "outputs": []
    },
    {
      "cell_type": "code",
      "source": [
        ""
      ],
      "metadata": {
        "id": "J-cB9Q_dZTBY"
      },
      "execution_count": null,
      "outputs": []
    },
    {
      "cell_type": "code",
      "source": [
        ""
      ],
      "metadata": {
        "id": "nDoA4I3nZTEG"
      },
      "execution_count": null,
      "outputs": []
    },
    {
      "cell_type": "code",
      "source": [
        ""
      ],
      "metadata": {
        "id": "5PDIiJe4ZTHl"
      },
      "execution_count": null,
      "outputs": []
    }
  ]
}