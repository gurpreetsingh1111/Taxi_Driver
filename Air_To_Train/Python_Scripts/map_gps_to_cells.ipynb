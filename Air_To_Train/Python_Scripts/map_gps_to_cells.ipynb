{
  "nbformat": 4,
  "nbformat_minor": 0,
  "metadata": {
    "colab": {
      "name": "map_gps_to_cells.ipynb",
      "provenance": []
    },
    "kernelspec": {
      "name": "python3",
      "display_name": "Python 3"
    },
    "language_info": {
      "name": "python"
    }
  },
  "cells": [
    {
      "cell_type": "code",
      "execution_count": 1,
      "metadata": {
        "id": "lwjl-ECKb6TX"
      },
      "outputs": [],
      "source": [
        "import pandas as pd\n",
        "\n",
        "\n",
        "max_lat = 23.0\n",
        "min_lat = 22.0\n",
        "\n",
        "min_long = 113\n",
        "max_long = 115\n",
        "\n",
        "diff_in_latitude = max_lat - min_lat\n",
        "diff_in_longitude = max_long - min_long\n",
        "\n",
        "# 20 rows so\n",
        "cell_size = diff_in_latitude / 20.0\n"
      ]
    },
    {
      "cell_type": "code",
      "source": [
        "def concat(row, col):\n",
        "    return str(row) + '-' + str(col)\n"
      ],
      "metadata": {
        "id": "YT8mnjsNb8dz"
      },
      "execution_count": 2,
      "outputs": []
    },
    {
      "cell_type": "code",
      "source": [
        "def map_gps_to_box(latitude, longitude):\n",
        "    row_number = int((latitude - min_lat) // cell_size)\n",
        "    col_number = int((longitude - min_long) // cell_size)\n",
        "\n",
        "    if col_number < 0 or row_number < 0:\n",
        "        print('lat: ', latitude)\n",
        "        print('long: ', longitude)\n",
        "        print(int((latitude - min_lat)))\n",
        "        print(int((longitude - min_long)))\n",
        "        return -1, -1, -1\n",
        "\n",
        "    # print(row_number)\n",
        "    # print(col_number)\n",
        "\n",
        "    # cell_number_str = str(row_number) + str(col_number)\n",
        "\n",
        "    return concat(row_number, col_number), row_number, col_number"
      ],
      "metadata": {
        "id": "HjHE0o4Tb8gl"
      },
      "execution_count": 3,
      "outputs": []
    },
    {
      "cell_type": "code",
      "source": [
        "def map_gps_to_cell(df):\n",
        "    cells = []\n",
        "    rows = []\n",
        "    cols = []\n",
        "\n",
        "    for index, row in df.iterrows():\n",
        "        lat = row['latitude']\n",
        "        long = row['longitude']\n",
        "\n",
        "        cell_number, cell_row, cell_col = map_gps_to_box(lat, long)\n",
        "\n",
        "        cells.append(cell_number)\n",
        "        cols.append(cell_col)\n",
        "        rows.append(cell_row)\n",
        "\n",
        "    df['cell'] = cells\n",
        "    df['row'] = rows\n",
        "    df['column'] = cols\n",
        "\n",
        "    return df\n"
      ],
      "metadata": {
        "id": "QR9nY8tqb8jE"
      },
      "execution_count": 4,
      "outputs": []
    },
    {
      "cell_type": "code",
      "source": [
        "def find_routes_with_ten_readings(df, route_numbers, min_num_readings=10):\n",
        "    routes = []\n",
        "\n",
        "    for number in route_numbers:\n",
        "        route_df = df[df['route_number'] == number]\n",
        "\n",
        "        if len(route_df) >= min_num_readings:\n",
        "            routes.append(route_df)\n",
        "        else:\n",
        "            print('Route: ', number, ' only has ', len(route_df), ' readings!')\n",
        "\n",
        "    print('Found ', len(routes), ' routes that have 10+ readings')\n",
        "\n",
        "    return pd.concat(routes)\n",
        "\n",
        "'''\n",
        "bad_df = air_df[air_df['route_number'] == 157306]\n",
        "bad_start = bad_df[bad_df['route_start'] == True]\n",
        "bad_start.head()\n",
        "bad_end = bad_df[bad_df['route_end'] == True]\n",
        "bad_end.head()\n",
        "air_df.drop(475, inplace=True)\n",
        "'''"
      ],
      "metadata": {
        "colab": {
          "base_uri": "https://localhost:8080/",
          "height": 53
        },
        "id": "DwBolog9b8pg",
        "outputId": "8679c1e9-0c4e-44c8-b410-9dbee4cef17a"
      },
      "execution_count": 5,
      "outputs": [
        {
          "output_type": "execute_result",
          "data": {
            "application/vnd.google.colaboratory.intrinsic+json": {
              "type": "string"
            },
            "text/plain": [
              "\"\\nbad_df = air_df[air_df['route_number'] == 157306]\\nbad_start = bad_df[bad_df['route_start'] == True]\\nbad_start.head()\\nbad_end = bad_df[bad_df['route_end'] == True]\\nbad_end.head()\\nair_df.drop(475, inplace=True)\\n\""
            ]
          },
          "metadata": {},
          "execution_count": 5
        }
      ]
    },
    {
      "cell_type": "code",
      "source": [
        ""
      ],
      "metadata": {
        "id": "X6iu-z2bb8vn"
      },
      "execution_count": null,
      "outputs": []
    },
    {
      "cell_type": "code",
      "source": [
        ""
      ],
      "metadata": {
        "id": "BKmc-bCRb82D"
      },
      "execution_count": null,
      "outputs": []
    },
    {
      "cell_type": "code",
      "source": [
        ""
      ],
      "metadata": {
        "id": "YL8lOJlVb84t"
      },
      "execution_count": null,
      "outputs": []
    },
    {
      "cell_type": "code",
      "source": [
        ""
      ],
      "metadata": {
        "id": "1ALmHSNTb88W"
      },
      "execution_count": null,
      "outputs": []
    },
    {
      "cell_type": "code",
      "source": [
        ""
      ],
      "metadata": {
        "id": "gW6WulkMb8-x"
      },
      "execution_count": null,
      "outputs": []
    },
    {
      "cell_type": "code",
      "source": [
        ""
      ],
      "metadata": {
        "id": "akhivVbbb9Bn"
      },
      "execution_count": null,
      "outputs": []
    },
    {
      "cell_type": "code",
      "source": [
        ""
      ],
      "metadata": {
        "id": "KZIBGUJUb9FA"
      },
      "execution_count": null,
      "outputs": []
    }
  ]
}