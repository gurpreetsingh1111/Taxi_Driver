{
  "nbformat": 4,
  "nbformat_minor": 0,
  "metadata": {
    "colab": {
      "name": "Train.ipynb",
      "provenance": []
    },
    "kernelspec": {
      "name": "python3",
      "display_name": "Python 3"
    },
    "language_info": {
      "name": "python"
    }
  },
  "cells": [
    {
      "cell_type": "code",
      "source": [
        "import pandas as pd\n",
        "import os\n",
        "\n",
        "\n",
        "def load_csv_as_df(file_name, sub_directories, column_numbers=None, column_names=None):\n",
        "    '''\n",
        "    Load any csv as a pandas dataframe. Provide the filename, the subdirectories, and columns to read(if desired).\n",
        "    '''\n",
        "    base_path = os.getcwd()\n",
        "    full_path = base_path + sub_directories + file_name\n",
        "\n",
        "    if column_numbers is not None:\n",
        "        df = pd.read_csv(full_path, usecols=column_numbers)\n",
        "    else:\n",
        "        df = pd.read_csv(full_path)\n",
        "\n",
        "    if column_names is not None:\n",
        "        df.columns = column_names\n",
        "\n",
        "    return df"
      ],
      "metadata": {
        "id": "X6iu-z2bb8vn"
      },
      "execution_count": 6,
      "outputs": []
    },
    {
      "cell_type": "code",
      "source": [
        "def lookup(s):\n",
        "    \"\"\"\n",
        "    This is an extremely fast approach to datetime parsing.\n",
        "    For large data, the same dates are often repeated. Rather than\n",
        "    re-parse these, we store all unique dates, parse them, and\n",
        "    use a lookup to convert all dates.\n",
        "    \"\"\"\n",
        "    dates = {date: pd.to_datetime(date) for date in s.unique()}\n",
        "    return s.map(dates)"
      ],
      "metadata": {
        "id": "BKmc-bCRb82D"
      },
      "execution_count": 7,
      "outputs": []
    },
    {
      "cell_type": "code",
      "source": [
        "def label_trajectories(df, trajectory_number):\n",
        "    df['time'] = lookup(df['time'])  # add time for sorting\n",
        "    updated_dfs = []\n",
        "    taxi_ids = df['taxi_id'].unique()\n",
        "    print('There are ', len(taxi_ids), ' unique taxi ids in this data')\n",
        "\n",
        "    empty_route = -1\n",
        "    completed_count = 0\n",
        "\n",
        "    for taxi_id in taxi_ids:\n",
        "        # get the df for that taxi\n",
        "        taxi_df = df.loc[df['taxi_id'] == taxi_id]\n",
        "        taxi_df.sort_values(by=['time'], inplace=True)\n",
        "        passenger_got_in = False\n",
        "\n",
        "        route_numbers = []\n",
        "        route_starts = []\n",
        "        route_ends = []\n",
        "        relevant_starts = []\n",
        "        relevant_ends = []\n",
        "\n",
        "        airport_starts = []\n",
        "        airport_ends = []\n",
        "        train_starts = []\n",
        "        train_ends = []\n",
        "\n",
        "        for index, row in taxi_df.iterrows():\n",
        "            passenger_in_taxi = row['occupancy_status']\n",
        "\n",
        "            # Do we already have a passenger?\n",
        "            if passenger_got_in:\n",
        "                if passenger_in_taxi:\n",
        "                    # trajectory still going\n",
        "                    route_starts.append(False)\n",
        "                    route_ends.append(False)\n",
        "                    relevant_ends.append(False)\n",
        "                    relevant_starts.append(False)\n",
        "                    train_starts.append(False)\n",
        "                    airport_starts.append(False)\n",
        "                    train_ends.append(False)\n",
        "                    airport_ends.append(False)\n",
        "                    route_numbers.append(trajectory_number)\n",
        "                    continue\n",
        "                elif not passenger_in_taxi:\n",
        "                    # trajectory ended\n",
        "                    passenger_got_in = False\n",
        "                    route_starts.append(False)\n",
        "                    route_ends.append(True)\n",
        "                    route_numbers.append(trajectory_number)\n",
        "                    trajectory_number += 1\n",
        "\n",
        "                    # Is this relevant?\n",
        "                    end_lat = row['latitude']\n",
        "                    end_long = row['longitude']\n",
        "\n",
        "                    if near_airport(end_lat, end_long) or near_train_station(end_lat, end_long):\n",
        "                        relevant_ends.append(True)\n",
        "\n",
        "                        if near_airport(end_lat, end_long):\n",
        "                            airport_ends.append(True)\n",
        "                            train_ends.append(False)\n",
        "                        else:\n",
        "                            airport_ends.append(False)\n",
        "                            train_ends.append(True)\n",
        "\n",
        "                    else:\n",
        "                        relevant_ends.append(False)\n",
        "                        airport_ends.append(False)\n",
        "                        train_ends.append(False)\n",
        "\n",
        "                    relevant_starts.append(False)\n",
        "                    airport_starts.append(False)\n",
        "                    train_starts.append(False)\n",
        "\n",
        "            elif passenger_in_taxi:\n",
        "                # someone just got in\n",
        "                passenger_got_in = True\n",
        "                route_starts.append(True)\n",
        "                route_ends.append(False)\n",
        "                route_numbers.append(trajectory_number)\n",
        "                # is this relevant?\n",
        "\n",
        "                start_lat = row['latitude']\n",
        "                start_long = row['longitude']\n",
        "\n",
        "                if near_airport(start_lat, start_long) or near_train_station(start_lat, start_long):\n",
        "                    relevant_starts.append(True)\n",
        "\n",
        "                    if near_airport(start_lat, start_long):\n",
        "                        airport_starts.append(True)\n",
        "                        train_starts.append(False)\n",
        "                    else:\n",
        "                        train_starts.append(True)\n",
        "                        airport_starts.append(False)\n",
        "\n",
        "                else:\n",
        "                    relevant_starts.append(False)\n",
        "                    airport_starts.append(False)\n",
        "                    train_starts.append(False)\n",
        "\n",
        "                relevant_ends.append(False)\n",
        "                airport_ends.append(False)\n",
        "                train_ends.append(False)\n",
        "\n",
        "            else:\n",
        "                # driving around without no passenger\n",
        "                route_starts.append(False)\n",
        "                route_ends.append(False)\n",
        "                relevant_ends.append(False)\n",
        "                relevant_starts.append(False)\n",
        "                train_starts.append(False)\n",
        "                airport_starts.append(False)\n",
        "                train_ends.append(False)\n",
        "                airport_ends.append(False)\n",
        "                route_numbers.append(empty_route)\n",
        "\n",
        "        taxi_df['route_number'] = route_numbers\n",
        "        taxi_df['route_start'] = route_starts\n",
        "        taxi_df['route_end'] = route_ends\n",
        "        taxi_df['relevant_start'] = relevant_starts\n",
        "        taxi_df['relevant_end'] = relevant_ends\n",
        "        taxi_df['airport_start'] = airport_starts\n",
        "        taxi_df['airport_end'] = airport_ends\n",
        "        taxi_df['train_start'] = train_starts\n",
        "        taxi_df['train_end'] = train_ends\n",
        "\n",
        "        taxi_df = taxi_df[taxi_df.route_number != -1]\n",
        "        updated_dfs.append(taxi_df)\n",
        "        completed_count += 1\n",
        "\n",
        "        if completed_count % 100 == 0:\n",
        "            print('Completed ', completed_count, ' taxi_ids out of ', len(taxi_ids))\n",
        "\n",
        "    return pd.concat(updated_dfs), trajectory_number\n"
      ],
      "metadata": {
        "id": "YL8lOJlVb84t"
      },
      "execution_count": 8,
      "outputs": []
    },
    {
      "cell_type": "code",
      "source": [
        "def find_trajectories_at_airport_or_bus(df):\n",
        "    # Test this method!\n",
        "    air_to_bus_df = df[(df['airport_start'] == True) & (df['train_end'] == True)]\n",
        "    bus_to_air_df = df[(df['train_start'] == True) & (df['airport_end'] == True)]\n",
        "\n",
        "    relevant_air_to_bus_numbers = air_to_bus_df.route_number.unique()\n",
        "    relevant_bus_to_air_numbers = bus_to_air_df.route_number.unique()\n",
        "\n",
        "    route_numbers = relevant_air_to_bus_numbers + relevant_bus_to_air_numbers\n",
        "\n",
        "    print('Found ', len(route_numbers), ' relevant routes!')\n",
        "\n",
        "    return df[df['route_number'].isin(route_numbers)]\n"
      ],
      "metadata": {
        "id": "1ALmHSNTb88W"
      },
      "execution_count": null,
      "outputs": []
    },
    {
      "cell_type": "code",
      "source": [
        "def near_airport(lat, long):\n",
        "    if 22.605770 <= lat <= 22.667089 and 113.784647 <= long <= 113.837340:\n",
        "        return True\n",
        "    else:\n",
        "        return False\n",
        "\n",
        "\n",
        "def near_bus_station(lat, long):\n",
        "    if 22.567210 <= lat <= 22.568807 and 114.089676 <= long <= 114.091320:\n",
        "        return True\n",
        "    else:\n",
        "        return False\n",
        "\n",
        "\n",
        "def near_train_station(lat, long):\n",
        "    if 22.604998 <= lat <= 22.614221 and 114.021111 <= long <= 114.034778:\n",
        "        return True\n",
        "    else:\n",
        "        return False\n"
      ],
      "metadata": {
        "id": "gW6WulkMb8-x"
      },
      "execution_count": null,
      "outputs": []
    },
    {
      "cell_type": "code",
      "source": [
        "def load_data_and_find_relevant_routes(file_name, sub_directories, trajectory_number):\n",
        "    col_numbers = [3, 4, 5, 6, 7, 8, 12]\n",
        "    col_names = ['longitude', 'latitude', 'time', 'taxi_id', 'speed', 'direction', 'occupancy_status']\n",
        "\n",
        "    df = load_csv_as_df(file_name, sub_directories, col_numbers, col_names)\n",
        "    df, new_trajectory_number = label_trajectories(df, trajectory_number)\n",
        "\n",
        "    relevant_df = find_trajectories_at_airport_or_bus(df)\n",
        "    csv_file_name = file_name + '.csv'\n",
        "\n",
        "    relevant_df.to_csv(csv_file_name, encoding='utf-8')\n",
        "\n",
        "    with open('RouteNumbers.txt', 'w') as f:\n",
        "        f.write('%d' % new_trajectory_number)\n",
        "\n",
        "    print('Found ', len(relevant_df), ' relevant routes in ', file_name)\n",
        "\n",
        "    return relevant_df, new_trajectory_number"
      ],
      "metadata": {
        "id": "akhivVbbb9Bn"
      },
      "execution_count": null,
      "outputs": []
    },
    {
      "cell_type": "code",
      "source": [
        "def load_all_data_from(folder_name, number_of_files):\n",
        "    trajectory_number = 1\n",
        "    base_file_name = 'part-m-'\n",
        "    relevant_dfs = []\n",
        "\n",
        "    for i in range(50, number_of_files):\n",
        "\n",
        "        if i < 10:\n",
        "            file_number = '0000' + str(i)\n",
        "        else:\n",
        "            file_number = '000' + str(i)\n",
        "\n",
        "        file_name = base_file_name + file_number\n",
        "        df, new_trajectory_number = load_data_and_find_relevant_routes(file_name, folder_name, trajectory_number)\n",
        "\n",
        "        relevant_dfs.append(df)\n",
        "        trajectory_number = new_trajectory_number\n",
        "\n",
        "        print('new_trajectory_number: ', new_trajectory_number)\n",
        "\n",
        "    return relevant_dfs"
      ],
      "metadata": {
        "id": "KZIBGUJUb9FA"
      },
      "execution_count": null,
      "outputs": []
    },
    {
      "cell_type": "code",
      "source": [
        "%%time\n",
        "col_numbers = [3, 4, 5, 6, 7, 8, 12]\n",
        "col_names = ['longitude', 'latitude', 'time', 'taxi_id', 'speed', 'direction', 'occupancy_status']\n",
        "df = load_csv_as_df('part-m-00035', '/2014-04-06/', col_numbers, col_names)"
      ],
      "metadata": {
        "id": "sPXWfgL4iEnj"
      },
      "execution_count": null,
      "outputs": []
    },
    {
      "cell_type": "markdown",
      "source": [
        "# ***Implement bunch off stuff***"
      ],
      "metadata": {
        "id": "1JTzZjn6iEqW"
      }
    },
    {
      "cell_type": "code",
      "source": [
        "air_to_train_df = df[(df['airport_start'] == True) & (df['train_end'] == True)]\n",
        "train_to_air_df = df[(df['train_start'] == True) & (df['airport_end'] == True)]\n",
        "air_start_df = df[df['airport_start'] == True]\n",
        "air_end_df = df[df['airport_end'] == True]\n",
        "train_start_df = df[df['train_start'] == True]\n",
        "train_end_df = df[df['train_end'] == True]\n",
        "all_relevant_df = load_all_data_from('/2014-04-06/', 52)"
      ],
      "metadata": {
        "id": "XcUaOVekiEtm"
      },
      "execution_count": null,
      "outputs": []
    },
    {
      "cell_type": "code",
      "source": [
        "near_train_df = df[(df['longitude'] >= 114.021111) & (df['longitude'] <= 114.034778)]\n",
        "train_df = near_train_df[(near_train_df['latitude'] >= 22.6049981) & (near_train_df['latitude'] <= 22.614221)]\n",
        "\n"
      ],
      "metadata": {
        "id": "pFMNgvnIiwHF"
      },
      "execution_count": null,
      "outputs": []
    }
  ]
}