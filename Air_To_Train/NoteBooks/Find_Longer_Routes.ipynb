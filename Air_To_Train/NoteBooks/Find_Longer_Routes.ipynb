{
  "nbformat": 4,
  "nbformat_minor": 0,
  "metadata": {
    "colab": {
      "name": "Find Longer Routes.ipynb",
      "provenance": []
    },
    "kernelspec": {
      "name": "python3",
      "display_name": "Python 3"
    },
    "language_info": {
      "name": "python"
    }
  },
  "cells": [
    {
      "cell_type": "code",
      "metadata": {
        "id": "5a9C3wcTPlNN"
      },
      "source": [
        "import pandas as pd\n",
        "import os\n",
        "import matplotlib.pyplot as plt"
      ],
      "execution_count": null,
      "outputs": []
    },
    {
      "cell_type": "code",
      "metadata": {
        "id": "C5xhBoY6UfOe"
      },
      "source": [
        "def load_csv_as_df(file_name, sub_directories, column_numbers=None, column_names=None):\n",
        "    base_path = os.getcwd()\n",
        "    full_path = base_path + sub_directories + file_name\n",
        "    if column_numbers is not None:\n",
        "        df = pd.read_csv(full_path, usecols=column_numbers)\n",
        "    else:\n",
        "        df = pd.read_csv(full_path)\n",
        "    if column_names is not None:\n",
        "        df.columns = column_names\n",
        "\n",
        "    return df \n",
        "train_df = load_csv_as_df('all-train-to-air-routes-with-cells.csv', '/')\n",
        "air_df = load_csv_as_df('all-air-to-train-routes-with-cells.csv', '/')"
      ],
      "execution_count": null,
      "outputs": []
    },
    {
      "cell_type": "code",
      "metadata": {
        "colab": {
          "base_uri": "https://localhost:8080/",
          "height": 206
        },
        "id": "91E5iaVqUfUC",
        "outputId": "252a8a17-13ed-43c6-960f-e380e61c7b73"
      },
      "source": [
        "train_df.head()"
      ],
      "execution_count": null,
      "outputs": [
        {
          "output_type": "execute_result",
          "data": {
            "text/html": [
              "<div>\n",
              "<style scoped>\n",
              "    .dataframe tbody tr th:only-of-type {\n",
              "        vertical-align: middle;\n",
              "    }\n",
              "\n",
              "    .dataframe tbody tr th {\n",
              "        vertical-align: top;\n",
              "    }\n",
              "\n",
              "    .dataframe thead th {\n",
              "        text-align: right;\n",
              "    }\n",
              "</style>\n",
              "<table border=\"1\" class=\"dataframe\">\n",
              "  <thead>\n",
              "    <tr style=\"text-align: right;\">\n",
              "      <th></th>\n",
              "      <th>latitude</th>\n",
              "      <th>longitude</th>\n",
              "      <th>occupancy_status</th>\n",
              "      <th>route_end</th>\n",
              "      <th>route_number</th>\n",
              "      <th>route_start</th>\n",
              "      <th>taxi_id</th>\n",
              "      <th>time</th>\n",
              "      <th>cell</th>\n",
              "      <th>row</th>\n",
              "      <th>column</th>\n",
              "    </tr>\n",
              "  </thead>\n",
              "  <tbody>\n",
              "    <tr>\n",
              "      <th>0</th>\n",
              "      <td>22.608000</td>\n",
              "      <td>114.032600</td>\n",
              "      <td>1</td>\n",
              "      <td>False</td>\n",
              "      <td>324340</td>\n",
              "      <td>True</td>\n",
              "      <td>30907</td>\n",
              "      <td>2018-11-25 06:27:58</td>\n",
              "      <td>12-20</td>\n",
              "      <td>12</td>\n",
              "      <td>20</td>\n",
              "    </tr>\n",
              "    <tr>\n",
              "      <th>1</th>\n",
              "      <td>22.608601</td>\n",
              "      <td>114.032097</td>\n",
              "      <td>1</td>\n",
              "      <td>False</td>\n",
              "      <td>324340</td>\n",
              "      <td>False</td>\n",
              "      <td>30907</td>\n",
              "      <td>2018-11-25 06:28:28</td>\n",
              "      <td>12-20</td>\n",
              "      <td>12</td>\n",
              "      <td>20</td>\n",
              "    </tr>\n",
              "    <tr>\n",
              "      <th>2</th>\n",
              "      <td>22.607599</td>\n",
              "      <td>114.029900</td>\n",
              "      <td>1</td>\n",
              "      <td>False</td>\n",
              "      <td>324340</td>\n",
              "      <td>False</td>\n",
              "      <td>30907</td>\n",
              "      <td>2018-11-25 06:28:58</td>\n",
              "      <td>12-20</td>\n",
              "      <td>12</td>\n",
              "      <td>20</td>\n",
              "    </tr>\n",
              "    <tr>\n",
              "      <th>3</th>\n",
              "      <td>22.606300</td>\n",
              "      <td>114.028099</td>\n",
              "      <td>1</td>\n",
              "      <td>False</td>\n",
              "      <td>324340</td>\n",
              "      <td>False</td>\n",
              "      <td>30907</td>\n",
              "      <td>2018-11-25 06:29:29</td>\n",
              "      <td>12-20</td>\n",
              "      <td>12</td>\n",
              "      <td>20</td>\n",
              "    </tr>\n",
              "    <tr>\n",
              "      <th>4</th>\n",
              "      <td>22.604000</td>\n",
              "      <td>114.024597</td>\n",
              "      <td>1</td>\n",
              "      <td>False</td>\n",
              "      <td>324340</td>\n",
              "      <td>False</td>\n",
              "      <td>30907</td>\n",
              "      <td>2018-11-25 06:29:59</td>\n",
              "      <td>12-20</td>\n",
              "      <td>12</td>\n",
              "      <td>20</td>\n",
              "    </tr>\n",
              "  </tbody>\n",
              "</table>\n",
              "</div>"
            ],
            "text/plain": [
              "    latitude   longitude  occupancy_status  ...   cell  row  column\n",
              "0  22.608000  114.032600                 1  ...  12-20   12      20\n",
              "1  22.608601  114.032097                 1  ...  12-20   12      20\n",
              "2  22.607599  114.029900                 1  ...  12-20   12      20\n",
              "3  22.606300  114.028099                 1  ...  12-20   12      20\n",
              "4  22.604000  114.024597                 1  ...  12-20   12      20\n",
              "\n",
              "[5 rows x 11 columns]"
            ]
          },
          "metadata": {},
          "execution_count": 4
        }
      ]
    },
    {
      "cell_type": "code",
      "metadata": {
        "colab": {
          "base_uri": "https://localhost:8080/",
          "height": 206
        },
        "id": "taixtBpiUfXa",
        "outputId": "88cb11bb-7c25-4245-ab58-829ee57e6c58"
      },
      "source": [
        "air_df.head()"
      ],
      "execution_count": null,
      "outputs": [
        {
          "output_type": "execute_result",
          "data": {
            "text/html": [
              "<div>\n",
              "<style scoped>\n",
              "    .dataframe tbody tr th:only-of-type {\n",
              "        vertical-align: middle;\n",
              "    }\n",
              "\n",
              "    .dataframe tbody tr th {\n",
              "        vertical-align: top;\n",
              "    }\n",
              "\n",
              "    .dataframe thead th {\n",
              "        text-align: right;\n",
              "    }\n",
              "</style>\n",
              "<table border=\"1\" class=\"dataframe\">\n",
              "  <thead>\n",
              "    <tr style=\"text-align: right;\">\n",
              "      <th></th>\n",
              "      <th>latitude</th>\n",
              "      <th>longitude</th>\n",
              "      <th>occupancy_status</th>\n",
              "      <th>route_end</th>\n",
              "      <th>route_number</th>\n",
              "      <th>route_start</th>\n",
              "      <th>taxi_id</th>\n",
              "      <th>time</th>\n",
              "      <th>cell</th>\n",
              "      <th>row</th>\n",
              "      <th>column</th>\n",
              "    </tr>\n",
              "  </thead>\n",
              "  <tbody>\n",
              "    <tr>\n",
              "      <th>0</th>\n",
              "      <td>22.626467</td>\n",
              "      <td>113.810150</td>\n",
              "      <td>1</td>\n",
              "      <td>False</td>\n",
              "      <td>2199</td>\n",
              "      <td>True</td>\n",
              "      <td>dodBcDpez8w=</td>\n",
              "      <td>2016-06-13 12:03:02</td>\n",
              "      <td>12-16</td>\n",
              "      <td>12</td>\n",
              "      <td>16</td>\n",
              "    </tr>\n",
              "    <tr>\n",
              "      <th>1</th>\n",
              "      <td>22.625467</td>\n",
              "      <td>113.809464</td>\n",
              "      <td>1</td>\n",
              "      <td>False</td>\n",
              "      <td>2199</td>\n",
              "      <td>False</td>\n",
              "      <td>dodBcDpez8w=</td>\n",
              "      <td>2016-06-13 12:03:24</td>\n",
              "      <td>12-16</td>\n",
              "      <td>12</td>\n",
              "      <td>16</td>\n",
              "    </tr>\n",
              "    <tr>\n",
              "      <th>2</th>\n",
              "      <td>22.625017</td>\n",
              "      <td>113.808647</td>\n",
              "      <td>1</td>\n",
              "      <td>False</td>\n",
              "      <td>2199</td>\n",
              "      <td>False</td>\n",
              "      <td>dodBcDpez8w=</td>\n",
              "      <td>2016-06-13 12:03:31</td>\n",
              "      <td>12-16</td>\n",
              "      <td>12</td>\n",
              "      <td>16</td>\n",
              "    </tr>\n",
              "    <tr>\n",
              "      <th>3</th>\n",
              "      <td>22.614933</td>\n",
              "      <td>113.811600</td>\n",
              "      <td>1</td>\n",
              "      <td>False</td>\n",
              "      <td>2199</td>\n",
              "      <td>False</td>\n",
              "      <td>dodBcDpez8w=</td>\n",
              "      <td>2016-06-13 12:04:53</td>\n",
              "      <td>12-16</td>\n",
              "      <td>12</td>\n",
              "      <td>16</td>\n",
              "    </tr>\n",
              "    <tr>\n",
              "      <th>4</th>\n",
              "      <td>22.613100</td>\n",
              "      <td>113.812599</td>\n",
              "      <td>1</td>\n",
              "      <td>False</td>\n",
              "      <td>2199</td>\n",
              "      <td>False</td>\n",
              "      <td>dodBcDpez8w=</td>\n",
              "      <td>2016-06-13 12:05:03</td>\n",
              "      <td>12-16</td>\n",
              "      <td>12</td>\n",
              "      <td>16</td>\n",
              "    </tr>\n",
              "  </tbody>\n",
              "</table>\n",
              "</div>"
            ],
            "text/plain": [
              "    latitude   longitude  occupancy_status  ...   cell  row  column\n",
              "0  22.626467  113.810150                 1  ...  12-16   12      16\n",
              "1  22.625467  113.809464                 1  ...  12-16   12      16\n",
              "2  22.625017  113.808647                 1  ...  12-16   12      16\n",
              "3  22.614933  113.811600                 1  ...  12-16   12      16\n",
              "4  22.613100  113.812599                 1  ...  12-16   12      16\n",
              "\n",
              "[5 rows x 11 columns]"
            ]
          },
          "metadata": {},
          "execution_count": 5
        }
      ]
    },
    {
      "cell_type": "code",
      "metadata": {
        "id": "FTInpRDNUfah"
      },
      "source": [
        "train_df_ids=train_df[\"route_number\"].unique()\n",
        "air_df_ids=air_df[\"route_number\"].unique()"
      ],
      "execution_count": null,
      "outputs": []
    },
    {
      "cell_type": "code",
      "metadata": {
        "colab": {
          "base_uri": "https://localhost:8080/"
        },
        "id": "jzmFBg54Ufdo",
        "outputId": "3f0bddd3-c0c3-40b2-cb10-ecbb2104bfe6"
      },
      "source": [
        "print(len(train_df_ids))\n",
        "print(len(air_df_ids))"
      ],
      "execution_count": null,
      "outputs": [
        {
          "output_type": "stream",
          "name": "stdout",
          "text": [
            "44\n",
            "26\n"
          ]
        }
      ]
    },
    {
      "cell_type": "code",
      "metadata": {
        "id": "4gSPoficUfgQ"
      },
      "source": [
        "def find_routes_with_ten_readings(df, route_numbers, min_num_readings=10):\n",
        "    routes = []\n",
        "    \n",
        "    for number in route_numbers:\n",
        "        route_df = df[df['route_number'] == number]\n",
        "        \n",
        "        if len(route_df) >= min_num_readings:\n",
        "            routes.append(route_df)\n",
        "        else:\n",
        "            print('Route: ', number, ' only has ', len(route_df), ' readings!')\n",
        "    \n",
        "    print('Found ', len(routes), ' routes that have 10+ readings')\n",
        "    \n",
        "    return pd.concat(routes)"
      ],
      "execution_count": null,
      "outputs": []
    },
    {
      "cell_type": "code",
      "metadata": {
        "colab": {
          "base_uri": "https://localhost:8080/",
          "height": 692
        },
        "id": "3eTrTYH0UfjA",
        "outputId": "b2112e61-2951-4738-8d61-e0d1998dba18"
      },
      "source": [
        "sample=find_routes_with_ten_readings(train_df,train_df_ids,min_num_readings=10)\n",
        "sample.head()"
      ],
      "execution_count": null,
      "outputs": [
        {
          "output_type": "stream",
          "name": "stdout",
          "text": [
            "Route:  5191  only has  2  readings!\n",
            "Route:  5195  only has  2  readings!\n",
            "Route:  5196  only has  2  readings!\n",
            "Route:  5197  only has  2  readings!\n",
            "Route:  5198  only has  2  readings!\n",
            "Route:  5199  only has  2  readings!\n",
            "Route:  11923  only has  4  readings!\n",
            "Route:  37118  only has  8  readings!\n",
            "Route:  84726  only has  2  readings!\n",
            "Route:  84727  only has  2  readings!\n",
            "Route:  84728  only has  2  readings!\n",
            "Route:  84729  only has  2  readings!\n",
            "Route:  84730  only has  2  readings!\n",
            "Route:  84731  only has  2  readings!\n",
            "Route:  84740  only has  2  readings!\n",
            "Route:  84741  only has  2  readings!\n",
            "Route:  84742  only has  2  readings!\n",
            "Route:  84743  only has  2  readings!\n",
            "Route:  84744  only has  2  readings!\n",
            "Route:  84745  only has  2  readings!\n",
            "Route:  84746  only has  2  readings!\n",
            "Route:  84747  only has  2  readings!\n",
            "Route:  84748  only has  2  readings!\n",
            "Route:  84749  only has  2  readings!\n",
            "Route:  84750  only has  2  readings!\n",
            "Route:  84751  only has  2  readings!\n",
            "Route:  84754  only has  2  readings!\n",
            "Found  17  routes that have 10+ readings\n"
          ]
        },
        {
          "output_type": "execute_result",
          "data": {
            "text/html": [
              "<div>\n",
              "<style scoped>\n",
              "    .dataframe tbody tr th:only-of-type {\n",
              "        vertical-align: middle;\n",
              "    }\n",
              "\n",
              "    .dataframe tbody tr th {\n",
              "        vertical-align: top;\n",
              "    }\n",
              "\n",
              "    .dataframe thead th {\n",
              "        text-align: right;\n",
              "    }\n",
              "</style>\n",
              "<table border=\"1\" class=\"dataframe\">\n",
              "  <thead>\n",
              "    <tr style=\"text-align: right;\">\n",
              "      <th></th>\n",
              "      <th>latitude</th>\n",
              "      <th>longitude</th>\n",
              "      <th>occupancy_status</th>\n",
              "      <th>route_end</th>\n",
              "      <th>route_number</th>\n",
              "      <th>route_start</th>\n",
              "      <th>taxi_id</th>\n",
              "      <th>time</th>\n",
              "      <th>cell</th>\n",
              "      <th>row</th>\n",
              "      <th>column</th>\n",
              "    </tr>\n",
              "  </thead>\n",
              "  <tbody>\n",
              "    <tr>\n",
              "      <th>0</th>\n",
              "      <td>22.608000</td>\n",
              "      <td>114.032600</td>\n",
              "      <td>1</td>\n",
              "      <td>False</td>\n",
              "      <td>324340</td>\n",
              "      <td>True</td>\n",
              "      <td>30907</td>\n",
              "      <td>2018-11-25 06:27:58</td>\n",
              "      <td>12-20</td>\n",
              "      <td>12</td>\n",
              "      <td>20</td>\n",
              "    </tr>\n",
              "    <tr>\n",
              "      <th>1</th>\n",
              "      <td>22.608601</td>\n",
              "      <td>114.032097</td>\n",
              "      <td>1</td>\n",
              "      <td>False</td>\n",
              "      <td>324340</td>\n",
              "      <td>False</td>\n",
              "      <td>30907</td>\n",
              "      <td>2018-11-25 06:28:28</td>\n",
              "      <td>12-20</td>\n",
              "      <td>12</td>\n",
              "      <td>20</td>\n",
              "    </tr>\n",
              "    <tr>\n",
              "      <th>2</th>\n",
              "      <td>22.607599</td>\n",
              "      <td>114.029900</td>\n",
              "      <td>1</td>\n",
              "      <td>False</td>\n",
              "      <td>324340</td>\n",
              "      <td>False</td>\n",
              "      <td>30907</td>\n",
              "      <td>2018-11-25 06:28:58</td>\n",
              "      <td>12-20</td>\n",
              "      <td>12</td>\n",
              "      <td>20</td>\n",
              "    </tr>\n",
              "    <tr>\n",
              "      <th>3</th>\n",
              "      <td>22.606300</td>\n",
              "      <td>114.028099</td>\n",
              "      <td>1</td>\n",
              "      <td>False</td>\n",
              "      <td>324340</td>\n",
              "      <td>False</td>\n",
              "      <td>30907</td>\n",
              "      <td>2018-11-25 06:29:29</td>\n",
              "      <td>12-20</td>\n",
              "      <td>12</td>\n",
              "      <td>20</td>\n",
              "    </tr>\n",
              "    <tr>\n",
              "      <th>4</th>\n",
              "      <td>22.604000</td>\n",
              "      <td>114.024597</td>\n",
              "      <td>1</td>\n",
              "      <td>False</td>\n",
              "      <td>324340</td>\n",
              "      <td>False</td>\n",
              "      <td>30907</td>\n",
              "      <td>2018-11-25 06:29:59</td>\n",
              "      <td>12-20</td>\n",
              "      <td>12</td>\n",
              "      <td>20</td>\n",
              "    </tr>\n",
              "  </tbody>\n",
              "</table>\n",
              "</div>"
            ],
            "text/plain": [
              "    latitude   longitude  occupancy_status  ...   cell  row  column\n",
              "0  22.608000  114.032600                 1  ...  12-20   12      20\n",
              "1  22.608601  114.032097                 1  ...  12-20   12      20\n",
              "2  22.607599  114.029900                 1  ...  12-20   12      20\n",
              "3  22.606300  114.028099                 1  ...  12-20   12      20\n",
              "4  22.604000  114.024597                 1  ...  12-20   12      20\n",
              "\n",
              "[5 rows x 11 columns]"
            ]
          },
          "metadata": {},
          "execution_count": 9
        }
      ]
    },
    {
      "cell_type": "code",
      "metadata": {
        "colab": {
          "base_uri": "https://localhost:8080/",
          "height": 310
        },
        "id": "7ouMUakWUfly",
        "outputId": "4e49dca2-9e9a-41d5-dbbc-5ef2570f4b98"
      },
      "source": [
        "sample2=find_routes_with_ten_readings(air_df,air_df_ids,min_num_readings=10)\n",
        "sample2.head()"
      ],
      "execution_count": null,
      "outputs": [
        {
          "output_type": "stream",
          "name": "stdout",
          "text": [
            "Route:  46836  only has  2  readings!\n",
            "Route:  46842  only has  5  readings!\n",
            "Route:  46844  only has  2  readings!\n",
            "Route:  122063  only has  2  readings!\n",
            "Route:  384940  only has  3  readings!\n",
            "Found  21  routes that have 10+ readings\n"
          ]
        },
        {
          "output_type": "execute_result",
          "data": {
            "text/html": [
              "<div>\n",
              "<style scoped>\n",
              "    .dataframe tbody tr th:only-of-type {\n",
              "        vertical-align: middle;\n",
              "    }\n",
              "\n",
              "    .dataframe tbody tr th {\n",
              "        vertical-align: top;\n",
              "    }\n",
              "\n",
              "    .dataframe thead th {\n",
              "        text-align: right;\n",
              "    }\n",
              "</style>\n",
              "<table border=\"1\" class=\"dataframe\">\n",
              "  <thead>\n",
              "    <tr style=\"text-align: right;\">\n",
              "      <th></th>\n",
              "      <th>latitude</th>\n",
              "      <th>longitude</th>\n",
              "      <th>occupancy_status</th>\n",
              "      <th>route_end</th>\n",
              "      <th>route_number</th>\n",
              "      <th>route_start</th>\n",
              "      <th>taxi_id</th>\n",
              "      <th>time</th>\n",
              "      <th>cell</th>\n",
              "      <th>row</th>\n",
              "      <th>column</th>\n",
              "    </tr>\n",
              "  </thead>\n",
              "  <tbody>\n",
              "    <tr>\n",
              "      <th>0</th>\n",
              "      <td>22.626467</td>\n",
              "      <td>113.810150</td>\n",
              "      <td>1</td>\n",
              "      <td>False</td>\n",
              "      <td>2199</td>\n",
              "      <td>True</td>\n",
              "      <td>dodBcDpez8w=</td>\n",
              "      <td>2016-06-13 12:03:02</td>\n",
              "      <td>12-16</td>\n",
              "      <td>12</td>\n",
              "      <td>16</td>\n",
              "    </tr>\n",
              "    <tr>\n",
              "      <th>1</th>\n",
              "      <td>22.625467</td>\n",
              "      <td>113.809464</td>\n",
              "      <td>1</td>\n",
              "      <td>False</td>\n",
              "      <td>2199</td>\n",
              "      <td>False</td>\n",
              "      <td>dodBcDpez8w=</td>\n",
              "      <td>2016-06-13 12:03:24</td>\n",
              "      <td>12-16</td>\n",
              "      <td>12</td>\n",
              "      <td>16</td>\n",
              "    </tr>\n",
              "    <tr>\n",
              "      <th>2</th>\n",
              "      <td>22.625017</td>\n",
              "      <td>113.808647</td>\n",
              "      <td>1</td>\n",
              "      <td>False</td>\n",
              "      <td>2199</td>\n",
              "      <td>False</td>\n",
              "      <td>dodBcDpez8w=</td>\n",
              "      <td>2016-06-13 12:03:31</td>\n",
              "      <td>12-16</td>\n",
              "      <td>12</td>\n",
              "      <td>16</td>\n",
              "    </tr>\n",
              "    <tr>\n",
              "      <th>3</th>\n",
              "      <td>22.614933</td>\n",
              "      <td>113.811600</td>\n",
              "      <td>1</td>\n",
              "      <td>False</td>\n",
              "      <td>2199</td>\n",
              "      <td>False</td>\n",
              "      <td>dodBcDpez8w=</td>\n",
              "      <td>2016-06-13 12:04:53</td>\n",
              "      <td>12-16</td>\n",
              "      <td>12</td>\n",
              "      <td>16</td>\n",
              "    </tr>\n",
              "    <tr>\n",
              "      <th>4</th>\n",
              "      <td>22.613100</td>\n",
              "      <td>113.812599</td>\n",
              "      <td>1</td>\n",
              "      <td>False</td>\n",
              "      <td>2199</td>\n",
              "      <td>False</td>\n",
              "      <td>dodBcDpez8w=</td>\n",
              "      <td>2016-06-13 12:05:03</td>\n",
              "      <td>12-16</td>\n",
              "      <td>12</td>\n",
              "      <td>16</td>\n",
              "    </tr>\n",
              "  </tbody>\n",
              "</table>\n",
              "</div>"
            ],
            "text/plain": [
              "    latitude   longitude  occupancy_status  ...   cell  row  column\n",
              "0  22.626467  113.810150                 1  ...  12-16   12      16\n",
              "1  22.625467  113.809464                 1  ...  12-16   12      16\n",
              "2  22.625017  113.808647                 1  ...  12-16   12      16\n",
              "3  22.614933  113.811600                 1  ...  12-16   12      16\n",
              "4  22.613100  113.812599                 1  ...  12-16   12      16\n",
              "\n",
              "[5 rows x 11 columns]"
            ]
          },
          "metadata": {},
          "execution_count": 10
        }
      ]
    },
    {
      "cell_type": "code",
      "metadata": {
        "id": "LV-WfGjzUfo4"
      },
      "source": [
        "def plot_route(df, route_number):\n",
        "    route_data = df[df['route_number'] == route_number]\n",
        "\n",
        "    long = route_data['longitude'].tolist()\n",
        "    lat = route_data['latitude'].tolist()\n",
        "\n",
        "    plt.plot(long, lat, color='r')\n",
        "    plt.xlabel('Longitude')\n",
        "    plt.ylabel('Latitude')\n",
        "    plt.title('Route ' + str(route_number))\n",
        "    plt.show()"
      ],
      "execution_count": null,
      "outputs": []
    },
    {
      "cell_type": "code",
      "metadata": {
        "colab": {
          "base_uri": "https://localhost:8080/",
          "height": 295
        },
        "id": "RjAjR4CEUfr9",
        "outputId": "46b95c36-a467-4b4e-d53b-a78ebdbe8340"
      },
      "source": [
        "plot_route(sample2,2199)"
      ],
      "execution_count": null,
      "outputs": [
        {
          "output_type": "display_data",
          "data": {
            "image/png": "[encoded data removed]",
            "text/plain": [
              "<Figure size 432x288 with 1 Axes>"
            ]
          },
          "metadata": {
            "needs_background": "light"
          }
        }
      ]
    },
    {
      "cell_type": "code",
      "metadata": {
        "id": "c9b_k3fDUfuz"
      },
      "source": [
        "# plot all routes\n",
        "def plot_all_route_in(df):\n",
        "  color_count=1\n",
        "  cycle=plt.rcParams['axes.prop_cycle'].by_key()[\"color\"]\n",
        "  route_numbers=df[\"route_number\"].unique()\n",
        "\n",
        "  for route_number in route_numbers:\n",
        "    route_data=df[df[\"route_number\"]==route_number]\n",
        "\n",
        "    long=route_data[\"longitude\"].tolist()\n",
        "    lat=route_data[\"latitude\"].tolist()\n",
        "\n",
        "    plt.plot(long,lat,color=\"r\")\n",
        "    color_count+=1\n",
        "\n",
        "  plt.show()"
      ],
      "execution_count": null,
      "outputs": []
    },
    {
      "cell_type": "code",
      "metadata": {
        "colab": {
          "base_uri": "https://localhost:8080/",
          "height": 269
        },
        "id": "DM0C4OGXUfxl",
        "outputId": "21508353-2193-46cf-9eb9-2fa57232dc3e"
      },
      "source": [
        "plot_all_route_in(sample2)"
      ],
      "execution_count": null,
      "outputs": [
        {
          "output_type": "display_data",
          "data": {
            "image/png": "[encoded data removed]",
            "text/plain": [
              "<Figure size 432x288 with 1 Axes>"
            ]
          },
          "metadata": {
            "needs_background": "light"
          }
        }
      ]
    },
    {
      "cell_type": "code",
      "metadata": {
        "id": "hmHkOJVPUf0S"
      },
      "source": [
        ""
      ],
      "execution_count": null,
      "outputs": []
    },
    {
      "cell_type": "code",
      "metadata": {
        "id": "4MaZchTSUf3g"
      },
      "source": [
        ""
      ],
      "execution_count": null,
      "outputs": []
    },
    {
      "cell_type": "code",
      "metadata": {
        "id": "i5XrmVYeUf6M"
      },
      "source": [
        ""
      ],
      "execution_count": null,
      "outputs": []
    },
    {
      "cell_type": "code",
      "metadata": {
        "id": "ImLRbkOVUf8p"
      },
      "source": [
        ""
      ],
      "execution_count": null,
      "outputs": []
    },
    {
      "cell_type": "code",
      "metadata": {
        "id": "mUjE_fbnUf_y"
      },
      "source": [
        ""
      ],
      "execution_count": null,
      "outputs": []
    },
    {
      "cell_type": "code",
      "metadata": {
        "id": "zic15kwGUgCR"
      },
      "source": [
        ""
      ],
      "execution_count": null,
      "outputs": []
    },
    {
      "cell_type": "code",
      "metadata": {
        "id": "by0Ef08XUgE5"
      },
      "source": [
        ""
      ],
      "execution_count": null,
      "outputs": []
    },
    {
      "cell_type": "code",
      "metadata": {
        "id": "1j3_5VcBUgIL"
      },
      "source": [
        ""
      ],
      "execution_count": null,
      "outputs": []
    },
    {
      "cell_type": "code",
      "metadata": {
        "id": "ADagbRpaUgPk"
      },
      "source": [
        ""
      ],
      "execution_count": null,
      "outputs": []
    },
    {
      "cell_type": "code",
      "metadata": {
        "id": "hPiGD35pUgSi"
      },
      "source": [
        ""
      ],
      "execution_count": null,
      "outputs": []
    },
    {
      "cell_type": "code",
      "metadata": {
        "id": "YSQxpTn6UgVn"
      },
      "source": [
        ""
      ],
      "execution_count": null,
      "outputs": []
    },
    {
      "cell_type": "code",
      "metadata": {
        "id": "3oUi72vJUgY6"
      },
      "source": [
        ""
      ],
      "execution_count": null,
      "outputs": []
    },
    {
      "cell_type": "code",
      "metadata": {
        "id": "bjgM4MGvUgbn"
      },
      "source": [
        ""
      ],
      "execution_count": null,
      "outputs": []
    },
    {
      "cell_type": "code",
      "metadata": {
        "id": "0fUSz2wEUger"
      },
      "source": [
        ""
      ],
      "execution_count": null,
      "outputs": []
    },
    {
      "cell_type": "code",
      "metadata": {
        "id": "-F9lPOd5UgiE"
      },
      "source": [
        ""
      ],
      "execution_count": null,
      "outputs": []
    },
    {
      "cell_type": "code",
      "metadata": {
        "id": "4Rs1s1QFUgke"
      },
      "source": [
        ""
      ],
      "execution_count": null,
      "outputs": []
    },
    {
      "cell_type": "code",
      "metadata": {
        "id": "NKdNK64QUgn8"
      },
      "source": [
        ""
      ],
      "execution_count": null,
      "outputs": []
    }
  ]
}