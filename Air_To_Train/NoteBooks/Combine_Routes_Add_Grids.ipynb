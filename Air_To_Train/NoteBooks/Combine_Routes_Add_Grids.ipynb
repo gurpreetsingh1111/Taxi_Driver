{
  "nbformat": 4,
  "nbformat_minor": 0,
  "metadata": {
    "colab": {
      "name": "Combine-Routes-Add_Grids.ipynb",
      "provenance": []
    },
    "kernelspec": {
      "name": "python3",
      "display_name": "Python 3"
    },
    "language_info": {
      "name": "python"
    }
  },
  "cells": [
    {
      "cell_type": "code",
      "metadata": {
        "id": "Mqf46iyyMsxd"
      },
      "source": [
        "import pandas as pd \n",
        "import os"
      ],
      "execution_count": null,
      "outputs": []
    },
    {
      "cell_type": "code",
      "metadata": {
        "id": "9n6yY2n1MuXi"
      },
      "source": [
        "def load_csv_as_df(file_name, sub_directories, column_numbers=None, column_names=None):\n",
        "    base_path = os.getcwd()\n",
        "    full_path = base_path + sub_directories + file_name\n",
        "    if column_numbers is not None:\n",
        "        df = pd.read_csv(full_path, usecols=column_numbers)\n",
        "    else:\n",
        "        df = pd.read_csv(full_path)\n",
        "    if column_names is not None:\n",
        "        df.columns = column_names\n",
        "    return df"
      ],
      "execution_count": null,
      "outputs": []
    },
    {
      "cell_type": "code",
      "metadata": {
        "colab": {
          "base_uri": "https://localhost:8080/",
          "height": 206
        },
        "id": "gGyaG63PMudB",
        "outputId": "f1ae9ec8-a412-4135-be04-6a0fa821c61c"
      },
      "source": [
        "train_df = load_csv_as_df('all-train-to-air-routes-no-grids.csv', '/')\n",
        "train_df.head()"
      ],
      "execution_count": null,
      "outputs": [
        {
          "output_type": "execute_result",
          "data": {
            "text/html": [
              "<div>\n",
              "<style scoped>\n",
              "    .dataframe tbody tr th:only-of-type {\n",
              "        vertical-align: middle;\n",
              "    }\n",
              "\n",
              "    .dataframe tbody tr th {\n",
              "        vertical-align: top;\n",
              "    }\n",
              "\n",
              "    .dataframe thead th {\n",
              "        text-align: right;\n",
              "    }\n",
              "</style>\n",
              "<table border=\"1\" class=\"dataframe\">\n",
              "  <thead>\n",
              "    <tr style=\"text-align: right;\">\n",
              "      <th></th>\n",
              "      <th>latitude</th>\n",
              "      <th>longitude</th>\n",
              "      <th>occupancy_status</th>\n",
              "      <th>route_end</th>\n",
              "      <th>route_number</th>\n",
              "      <th>route_start</th>\n",
              "      <th>taxi_id</th>\n",
              "      <th>time</th>\n",
              "    </tr>\n",
              "  </thead>\n",
              "  <tbody>\n",
              "    <tr>\n",
              "      <th>0</th>\n",
              "      <td>22.608000</td>\n",
              "      <td>114.032600</td>\n",
              "      <td>1</td>\n",
              "      <td>False</td>\n",
              "      <td>324340</td>\n",
              "      <td>True</td>\n",
              "      <td>30907</td>\n",
              "      <td>2018-11-25 06:27:58</td>\n",
              "    </tr>\n",
              "    <tr>\n",
              "      <th>1</th>\n",
              "      <td>22.608601</td>\n",
              "      <td>114.032097</td>\n",
              "      <td>1</td>\n",
              "      <td>False</td>\n",
              "      <td>324340</td>\n",
              "      <td>False</td>\n",
              "      <td>30907</td>\n",
              "      <td>2018-11-25 06:28:28</td>\n",
              "    </tr>\n",
              "    <tr>\n",
              "      <th>2</th>\n",
              "      <td>22.607599</td>\n",
              "      <td>114.029900</td>\n",
              "      <td>1</td>\n",
              "      <td>False</td>\n",
              "      <td>324340</td>\n",
              "      <td>False</td>\n",
              "      <td>30907</td>\n",
              "      <td>2018-11-25 06:28:58</td>\n",
              "    </tr>\n",
              "    <tr>\n",
              "      <th>3</th>\n",
              "      <td>22.606300</td>\n",
              "      <td>114.028099</td>\n",
              "      <td>1</td>\n",
              "      <td>False</td>\n",
              "      <td>324340</td>\n",
              "      <td>False</td>\n",
              "      <td>30907</td>\n",
              "      <td>2018-11-25 06:29:29</td>\n",
              "    </tr>\n",
              "    <tr>\n",
              "      <th>4</th>\n",
              "      <td>22.604000</td>\n",
              "      <td>114.024597</td>\n",
              "      <td>1</td>\n",
              "      <td>False</td>\n",
              "      <td>324340</td>\n",
              "      <td>False</td>\n",
              "      <td>30907</td>\n",
              "      <td>2018-11-25 06:29:59</td>\n",
              "    </tr>\n",
              "  </tbody>\n",
              "</table>\n",
              "</div>"
            ],
            "text/plain": [
              "    latitude   longitude  ...  taxi_id                 time\n",
              "0  22.608000  114.032600  ...    30907  2018-11-25 06:27:58\n",
              "1  22.608601  114.032097  ...    30907  2018-11-25 06:28:28\n",
              "2  22.607599  114.029900  ...    30907  2018-11-25 06:28:58\n",
              "3  22.606300  114.028099  ...    30907  2018-11-25 06:29:29\n",
              "4  22.604000  114.024597  ...    30907  2018-11-25 06:29:59\n",
              "\n",
              "[5 rows x 8 columns]"
            ]
          },
          "metadata": {},
          "execution_count": 24
        }
      ]
    },
    {
      "cell_type": "code",
      "metadata": {
        "colab": {
          "base_uri": "https://localhost:8080/",
          "height": 206
        },
        "id": "kc5EUzZjMugF",
        "outputId": "2689b5fc-f69d-479f-ff31-065f4ace7d70"
      },
      "source": [
        "air_df=load_csv_as_df(\"https://raw.githubusercontent.com/dtroupe18/TaxiProject/master/AirToTrain/CsvFiles/all-air-to-train-routes-no-grids(1).csv\")\n",
        "air_df.head()"
      ],
      "execution_count": null,
      "outputs": [
        {
          "output_type": "execute_result",
          "data": {
            "text/html": [
              "<div>\n",
              "<style scoped>\n",
              "    .dataframe tbody tr th:only-of-type {\n",
              "        vertical-align: middle;\n",
              "    }\n",
              "\n",
              "    .dataframe tbody tr th {\n",
              "        vertical-align: top;\n",
              "    }\n",
              "\n",
              "    .dataframe thead th {\n",
              "        text-align: right;\n",
              "    }\n",
              "</style>\n",
              "<table border=\"1\" class=\"dataframe\">\n",
              "  <thead>\n",
              "    <tr style=\"text-align: right;\">\n",
              "      <th></th>\n",
              "      <th>latitude</th>\n",
              "      <th>longitude</th>\n",
              "      <th>occupancy_status</th>\n",
              "      <th>route_end</th>\n",
              "      <th>route_number</th>\n",
              "      <th>route_start</th>\n",
              "      <th>taxi_id</th>\n",
              "      <th>time</th>\n",
              "      <th>cell</th>\n",
              "      <th>row</th>\n",
              "      <th>column</th>\n",
              "    </tr>\n",
              "  </thead>\n",
              "  <tbody>\n",
              "    <tr>\n",
              "      <th>0</th>\n",
              "      <td>22.626467</td>\n",
              "      <td>113.810150</td>\n",
              "      <td>1</td>\n",
              "      <td>False</td>\n",
              "      <td>2199</td>\n",
              "      <td>True</td>\n",
              "      <td>dodBcDpez8w=</td>\n",
              "      <td>2016-06-13 12:03:02</td>\n",
              "      <td>313.0-405.0</td>\n",
              "      <td>313.0</td>\n",
              "      <td>405.0</td>\n",
              "    </tr>\n",
              "    <tr>\n",
              "      <th>1</th>\n",
              "      <td>22.625467</td>\n",
              "      <td>113.809464</td>\n",
              "      <td>1</td>\n",
              "      <td>False</td>\n",
              "      <td>2199</td>\n",
              "      <td>False</td>\n",
              "      <td>dodBcDpez8w=</td>\n",
              "      <td>2016-06-13 12:03:24</td>\n",
              "      <td>312.0-404.0</td>\n",
              "      <td>312.0</td>\n",
              "      <td>404.0</td>\n",
              "    </tr>\n",
              "    <tr>\n",
              "      <th>2</th>\n",
              "      <td>22.625017</td>\n",
              "      <td>113.808647</td>\n",
              "      <td>1</td>\n",
              "      <td>False</td>\n",
              "      <td>2199</td>\n",
              "      <td>False</td>\n",
              "      <td>dodBcDpez8w=</td>\n",
              "      <td>2016-06-13 12:03:31</td>\n",
              "      <td>312.0-404.0</td>\n",
              "      <td>312.0</td>\n",
              "      <td>404.0</td>\n",
              "    </tr>\n",
              "    <tr>\n",
              "      <th>3</th>\n",
              "      <td>22.614933</td>\n",
              "      <td>113.811600</td>\n",
              "      <td>1</td>\n",
              "      <td>False</td>\n",
              "      <td>2199</td>\n",
              "      <td>False</td>\n",
              "      <td>dodBcDpez8w=</td>\n",
              "      <td>2016-06-13 12:04:53</td>\n",
              "      <td>307.0-405.0</td>\n",
              "      <td>307.0</td>\n",
              "      <td>405.0</td>\n",
              "    </tr>\n",
              "    <tr>\n",
              "      <th>4</th>\n",
              "      <td>22.613100</td>\n",
              "      <td>113.812599</td>\n",
              "      <td>1</td>\n",
              "      <td>False</td>\n",
              "      <td>2199</td>\n",
              "      <td>False</td>\n",
              "      <td>dodBcDpez8w=</td>\n",
              "      <td>2016-06-13 12:05:03</td>\n",
              "      <td>306.0-406.0</td>\n",
              "      <td>306.0</td>\n",
              "      <td>406.0</td>\n",
              "    </tr>\n",
              "  </tbody>\n",
              "</table>\n",
              "</div>"
            ],
            "text/plain": [
              "    latitude   longitude  occupancy_status  ...         cell    row  column\n",
              "0  22.626467  113.810150                 1  ...  313.0-405.0  313.0   405.0\n",
              "1  22.625467  113.809464                 1  ...  312.0-404.0  312.0   404.0\n",
              "2  22.625017  113.808647                 1  ...  312.0-404.0  312.0   404.0\n",
              "3  22.614933  113.811600                 1  ...  307.0-405.0  307.0   405.0\n",
              "4  22.613100  113.812599                 1  ...  306.0-406.0  306.0   406.0\n",
              "\n",
              "[5 rows x 11 columns]"
            ]
          },
          "metadata": {},
          "execution_count": 25
        }
      ]
    },
    {
      "cell_type": "markdown",
      "metadata": {
        "id": "Zf8bRZsUKweR"
      },
      "source": [
        "Both latitude and longitude are measured in degrees, which are in turn divided into minutes and seconds"
      ]
    },
    {
      "cell_type": "code",
      "metadata": {
        "id": "gYQMBjUqMui7"
      },
      "source": [
        "max_lat = 23.0\n",
        "min_lat = 22.0\n",
        "\n",
        "min_long = 113\n",
        "max_long = 115\n",
        "\n",
        "diff_in_latitude = max_lat - min_lat\n",
        "diff_in_longitude = max_long - min_long\n",
        "\n",
        "# 20 rows\n",
        "cell_size = diff_in_latitude / 20.0"
      ],
      "execution_count": null,
      "outputs": []
    },
    {
      "cell_type": "code",
      "metadata": {
        "id": "De4Tn2gDMulu"
      },
      "source": [
        "def concat(row, col):\n",
        "    return str(row) + '-' + str(col)\n",
        "\n",
        "\n",
        "def map_gps_to_box(latitude, longitude):\n",
        "    row_number = int((latitude - min_lat) // cell_size)\n",
        "    col_number = int((longitude - min_long) // cell_size)\n",
        "\n",
        "    if col_number < 0 or row_number < 0:\n",
        "        return -1, -1, -1\n",
        "\n",
        "    cell_number_str = str(row_number) + str(col_number)\n",
        "\n",
        "    return concat(row_number, col_number), row_number, col_number"
      ],
      "execution_count": null,
      "outputs": []
    },
    {
      "cell_type": "code",
      "metadata": {
        "id": "iiDIVGyCMuoc"
      },
      "source": [
        "def map_gps_to_cell(df):\n",
        "    cells = []\n",
        "    rows = []\n",
        "    cols = []\n",
        "\n",
        "    for index, row in df.iterrows():\n",
        "        lat = row['latitude']\n",
        "        long = row['longitude']\n",
        "\n",
        "        cell_number, cell_row, cell_col = map_gps_to_box(lat, long)\n",
        "\n",
        "        cells.append(cell_number)\n",
        "        cols.append(cell_col)\n",
        "        rows.append(cell_row)\n",
        "\n",
        "    df['cell'] = cells\n",
        "    df['row'] = rows\n",
        "    df['column'] = cols\n",
        "\n",
        "    return df"
      ],
      "execution_count": null,
      "outputs": []
    },
    {
      "cell_type": "code",
      "metadata": {
        "id": "GKuVerY6Murj",
        "colab": {
          "base_uri": "https://localhost:8080/",
          "height": 424
        },
        "outputId": "bac5bbac-8e51-4b6f-b50f-6d91b9a75d31"
      },
      "source": [
        "air_df = map_gps_to_cell(air_df)\n",
        "air_df"
      ],
      "execution_count": null,
      "outputs": [
        {
          "output_type": "execute_result",
          "data": {
            "text/html": [
              "<div>\n",
              "<style scoped>\n",
              "    .dataframe tbody tr th:only-of-type {\n",
              "        vertical-align: middle;\n",
              "    }\n",
              "\n",
              "    .dataframe tbody tr th {\n",
              "        vertical-align: top;\n",
              "    }\n",
              "\n",
              "    .dataframe thead th {\n",
              "        text-align: right;\n",
              "    }\n",
              "</style>\n",
              "<table border=\"1\" class=\"dataframe\">\n",
              "  <thead>\n",
              "    <tr style=\"text-align: right;\">\n",
              "      <th></th>\n",
              "      <th>latitude</th>\n",
              "      <th>longitude</th>\n",
              "      <th>occupancy_status</th>\n",
              "      <th>route_end</th>\n",
              "      <th>route_number</th>\n",
              "      <th>route_start</th>\n",
              "      <th>taxi_id</th>\n",
              "      <th>time</th>\n",
              "      <th>cell</th>\n",
              "      <th>row</th>\n",
              "      <th>column</th>\n",
              "    </tr>\n",
              "  </thead>\n",
              "  <tbody>\n",
              "    <tr>\n",
              "      <th>0</th>\n",
              "      <td>22.626467</td>\n",
              "      <td>113.810150</td>\n",
              "      <td>1</td>\n",
              "      <td>False</td>\n",
              "      <td>2199</td>\n",
              "      <td>True</td>\n",
              "      <td>dodBcDpez8w=</td>\n",
              "      <td>2016-06-13 12:03:02</td>\n",
              "      <td>12-16</td>\n",
              "      <td>12</td>\n",
              "      <td>16</td>\n",
              "    </tr>\n",
              "    <tr>\n",
              "      <th>1</th>\n",
              "      <td>22.625467</td>\n",
              "      <td>113.809464</td>\n",
              "      <td>1</td>\n",
              "      <td>False</td>\n",
              "      <td>2199</td>\n",
              "      <td>False</td>\n",
              "      <td>dodBcDpez8w=</td>\n",
              "      <td>2016-06-13 12:03:24</td>\n",
              "      <td>12-16</td>\n",
              "      <td>12</td>\n",
              "      <td>16</td>\n",
              "    </tr>\n",
              "    <tr>\n",
              "      <th>2</th>\n",
              "      <td>22.625017</td>\n",
              "      <td>113.808647</td>\n",
              "      <td>1</td>\n",
              "      <td>False</td>\n",
              "      <td>2199</td>\n",
              "      <td>False</td>\n",
              "      <td>dodBcDpez8w=</td>\n",
              "      <td>2016-06-13 12:03:31</td>\n",
              "      <td>12-16</td>\n",
              "      <td>12</td>\n",
              "      <td>16</td>\n",
              "    </tr>\n",
              "    <tr>\n",
              "      <th>3</th>\n",
              "      <td>22.614933</td>\n",
              "      <td>113.811600</td>\n",
              "      <td>1</td>\n",
              "      <td>False</td>\n",
              "      <td>2199</td>\n",
              "      <td>False</td>\n",
              "      <td>dodBcDpez8w=</td>\n",
              "      <td>2016-06-13 12:04:53</td>\n",
              "      <td>12-16</td>\n",
              "      <td>12</td>\n",
              "      <td>16</td>\n",
              "    </tr>\n",
              "    <tr>\n",
              "      <th>4</th>\n",
              "      <td>22.613100</td>\n",
              "      <td>113.812599</td>\n",
              "      <td>1</td>\n",
              "      <td>False</td>\n",
              "      <td>2199</td>\n",
              "      <td>False</td>\n",
              "      <td>dodBcDpez8w=</td>\n",
              "      <td>2016-06-13 12:05:03</td>\n",
              "      <td>12-16</td>\n",
              "      <td>12</td>\n",
              "      <td>16</td>\n",
              "    </tr>\n",
              "    <tr>\n",
              "      <th>...</th>\n",
              "      <td>...</td>\n",
              "      <td>...</td>\n",
              "      <td>...</td>\n",
              "      <td>...</td>\n",
              "      <td>...</td>\n",
              "      <td>...</td>\n",
              "      <td>...</td>\n",
              "      <td>...</td>\n",
              "      <td>...</td>\n",
              "      <td>...</td>\n",
              "      <td>...</td>\n",
              "    </tr>\n",
              "    <tr>\n",
              "      <th>3604</th>\n",
              "      <td>22.602383</td>\n",
              "      <td>114.025581</td>\n",
              "      <td>1</td>\n",
              "      <td>False</td>\n",
              "      <td>433086</td>\n",
              "      <td>False</td>\n",
              "      <td>36373</td>\n",
              "      <td>2018-11-25 03:52:50</td>\n",
              "      <td>12-20</td>\n",
              "      <td>12</td>\n",
              "      <td>20</td>\n",
              "    </tr>\n",
              "    <tr>\n",
              "      <th>3605</th>\n",
              "      <td>22.605801</td>\n",
              "      <td>114.027618</td>\n",
              "      <td>1</td>\n",
              "      <td>False</td>\n",
              "      <td>433086</td>\n",
              "      <td>False</td>\n",
              "      <td>36373</td>\n",
              "      <td>2018-11-25 03:53:38</td>\n",
              "      <td>12-20</td>\n",
              "      <td>12</td>\n",
              "      <td>20</td>\n",
              "    </tr>\n",
              "    <tr>\n",
              "      <th>3606</th>\n",
              "      <td>22.609051</td>\n",
              "      <td>114.033279</td>\n",
              "      <td>1</td>\n",
              "      <td>False</td>\n",
              "      <td>433086</td>\n",
              "      <td>False</td>\n",
              "      <td>36373</td>\n",
              "      <td>2018-11-25 03:54:34</td>\n",
              "      <td>12-20</td>\n",
              "      <td>12</td>\n",
              "      <td>20</td>\n",
              "    </tr>\n",
              "    <tr>\n",
              "      <th>3607</th>\n",
              "      <td>22.608482</td>\n",
              "      <td>114.033730</td>\n",
              "      <td>1</td>\n",
              "      <td>False</td>\n",
              "      <td>433086</td>\n",
              "      <td>False</td>\n",
              "      <td>36373</td>\n",
              "      <td>2018-11-25 03:55:29</td>\n",
              "      <td>12-20</td>\n",
              "      <td>12</td>\n",
              "      <td>20</td>\n",
              "    </tr>\n",
              "    <tr>\n",
              "      <th>3608</th>\n",
              "      <td>22.608482</td>\n",
              "      <td>114.033730</td>\n",
              "      <td>0</td>\n",
              "      <td>True</td>\n",
              "      <td>433086</td>\n",
              "      <td>False</td>\n",
              "      <td>36373</td>\n",
              "      <td>2018-11-25 03:55:33</td>\n",
              "      <td>12-20</td>\n",
              "      <td>12</td>\n",
              "      <td>20</td>\n",
              "    </tr>\n",
              "  </tbody>\n",
              "</table>\n",
              "<p>3609 rows × 11 columns</p>\n",
              "</div>"
            ],
            "text/plain": [
              "       latitude   longitude  occupancy_status  ...   cell  row  column\n",
              "0     22.626467  113.810150                 1  ...  12-16   12      16\n",
              "1     22.625467  113.809464                 1  ...  12-16   12      16\n",
              "2     22.625017  113.808647                 1  ...  12-16   12      16\n",
              "3     22.614933  113.811600                 1  ...  12-16   12      16\n",
              "4     22.613100  113.812599                 1  ...  12-16   12      16\n",
              "...         ...         ...               ...  ...    ...  ...     ...\n",
              "3604  22.602383  114.025581                 1  ...  12-20   12      20\n",
              "3605  22.605801  114.027618                 1  ...  12-20   12      20\n",
              "3606  22.609051  114.033279                 1  ...  12-20   12      20\n",
              "3607  22.608482  114.033730                 1  ...  12-20   12      20\n",
              "3608  22.608482  114.033730                 0  ...  12-20   12      20\n",
              "\n",
              "[3609 rows x 11 columns]"
            ]
          },
          "metadata": {},
          "execution_count": 35
        }
      ]
    },
    {
      "cell_type": "code",
      "metadata": {
        "id": "Wn-e5BGNMuuJ",
        "colab": {
          "base_uri": "https://localhost:8080/",
          "height": 424
        },
        "outputId": "d05abe4b-13dd-4169-ff01-009dec4cfc53"
      },
      "source": [
        "train_df=map_gps_to_cell(train_df)\n",
        "train_df"
      ],
      "execution_count": null,
      "outputs": [
        {
          "output_type": "execute_result",
          "data": {
            "text/html": [
              "<div>\n",
              "<style scoped>\n",
              "    .dataframe tbody tr th:only-of-type {\n",
              "        vertical-align: middle;\n",
              "    }\n",
              "\n",
              "    .dataframe tbody tr th {\n",
              "        vertical-align: top;\n",
              "    }\n",
              "\n",
              "    .dataframe thead th {\n",
              "        text-align: right;\n",
              "    }\n",
              "</style>\n",
              "<table border=\"1\" class=\"dataframe\">\n",
              "  <thead>\n",
              "    <tr style=\"text-align: right;\">\n",
              "      <th></th>\n",
              "      <th>latitude</th>\n",
              "      <th>longitude</th>\n",
              "      <th>occupancy_status</th>\n",
              "      <th>route_end</th>\n",
              "      <th>route_number</th>\n",
              "      <th>route_start</th>\n",
              "      <th>taxi_id</th>\n",
              "      <th>time</th>\n",
              "      <th>cell</th>\n",
              "      <th>row</th>\n",
              "      <th>column</th>\n",
              "    </tr>\n",
              "  </thead>\n",
              "  <tbody>\n",
              "    <tr>\n",
              "      <th>0</th>\n",
              "      <td>22.608000</td>\n",
              "      <td>114.032600</td>\n",
              "      <td>1</td>\n",
              "      <td>False</td>\n",
              "      <td>324340</td>\n",
              "      <td>True</td>\n",
              "      <td>30907</td>\n",
              "      <td>2018-11-25 06:27:58</td>\n",
              "      <td>12-20</td>\n",
              "      <td>12</td>\n",
              "      <td>20</td>\n",
              "    </tr>\n",
              "    <tr>\n",
              "      <th>1</th>\n",
              "      <td>22.608601</td>\n",
              "      <td>114.032097</td>\n",
              "      <td>1</td>\n",
              "      <td>False</td>\n",
              "      <td>324340</td>\n",
              "      <td>False</td>\n",
              "      <td>30907</td>\n",
              "      <td>2018-11-25 06:28:28</td>\n",
              "      <td>12-20</td>\n",
              "      <td>12</td>\n",
              "      <td>20</td>\n",
              "    </tr>\n",
              "    <tr>\n",
              "      <th>2</th>\n",
              "      <td>22.607599</td>\n",
              "      <td>114.029900</td>\n",
              "      <td>1</td>\n",
              "      <td>False</td>\n",
              "      <td>324340</td>\n",
              "      <td>False</td>\n",
              "      <td>30907</td>\n",
              "      <td>2018-11-25 06:28:58</td>\n",
              "      <td>12-20</td>\n",
              "      <td>12</td>\n",
              "      <td>20</td>\n",
              "    </tr>\n",
              "    <tr>\n",
              "      <th>3</th>\n",
              "      <td>22.606300</td>\n",
              "      <td>114.028099</td>\n",
              "      <td>1</td>\n",
              "      <td>False</td>\n",
              "      <td>324340</td>\n",
              "      <td>False</td>\n",
              "      <td>30907</td>\n",
              "      <td>2018-11-25 06:29:29</td>\n",
              "      <td>12-20</td>\n",
              "      <td>12</td>\n",
              "      <td>20</td>\n",
              "    </tr>\n",
              "    <tr>\n",
              "      <th>4</th>\n",
              "      <td>22.604000</td>\n",
              "      <td>114.024597</td>\n",
              "      <td>1</td>\n",
              "      <td>False</td>\n",
              "      <td>324340</td>\n",
              "      <td>False</td>\n",
              "      <td>30907</td>\n",
              "      <td>2018-11-25 06:29:59</td>\n",
              "      <td>12-20</td>\n",
              "      <td>12</td>\n",
              "      <td>20</td>\n",
              "    </tr>\n",
              "    <tr>\n",
              "      <th>...</th>\n",
              "      <td>...</td>\n",
              "      <td>...</td>\n",
              "      <td>...</td>\n",
              "      <td>...</td>\n",
              "      <td>...</td>\n",
              "      <td>...</td>\n",
              "      <td>...</td>\n",
              "      <td>...</td>\n",
              "      <td>...</td>\n",
              "      <td>...</td>\n",
              "      <td>...</td>\n",
              "    </tr>\n",
              "    <tr>\n",
              "      <th>3093</th>\n",
              "      <td>22.607834</td>\n",
              "      <td>113.839966</td>\n",
              "      <td>1</td>\n",
              "      <td>False</td>\n",
              "      <td>172162</td>\n",
              "      <td>False</td>\n",
              "      <td>gB7yn7HysUY=</td>\n",
              "      <td>2016-06-13 15:26:36</td>\n",
              "      <td>12-16</td>\n",
              "      <td>12</td>\n",
              "      <td>16</td>\n",
              "    </tr>\n",
              "    <tr>\n",
              "      <th>3094</th>\n",
              "      <td>22.601282</td>\n",
              "      <td>113.843132</td>\n",
              "      <td>1</td>\n",
              "      <td>False</td>\n",
              "      <td>172162</td>\n",
              "      <td>False</td>\n",
              "      <td>gB7yn7HysUY=</td>\n",
              "      <td>2016-06-13 15:31:36</td>\n",
              "      <td>12-16</td>\n",
              "      <td>12</td>\n",
              "      <td>16</td>\n",
              "    </tr>\n",
              "    <tr>\n",
              "      <th>3095</th>\n",
              "      <td>22.601282</td>\n",
              "      <td>113.843132</td>\n",
              "      <td>1</td>\n",
              "      <td>False</td>\n",
              "      <td>172162</td>\n",
              "      <td>False</td>\n",
              "      <td>gB7yn7HysUY=</td>\n",
              "      <td>2016-06-13 15:31:44</td>\n",
              "      <td>12-16</td>\n",
              "      <td>12</td>\n",
              "      <td>16</td>\n",
              "    </tr>\n",
              "    <tr>\n",
              "      <th>3096</th>\n",
              "      <td>22.587133</td>\n",
              "      <td>113.854797</td>\n",
              "      <td>1</td>\n",
              "      <td>False</td>\n",
              "      <td>172162</td>\n",
              "      <td>False</td>\n",
              "      <td>gB7yn7HysUY=</td>\n",
              "      <td>2016-06-13 15:36:44</td>\n",
              "      <td>11-17</td>\n",
              "      <td>11</td>\n",
              "      <td>17</td>\n",
              "    </tr>\n",
              "    <tr>\n",
              "      <th>3097</th>\n",
              "      <td>22.611250</td>\n",
              "      <td>113.825531</td>\n",
              "      <td>0</td>\n",
              "      <td>True</td>\n",
              "      <td>172162</td>\n",
              "      <td>False</td>\n",
              "      <td>gB7yn7HysUY=</td>\n",
              "      <td>2016-06-13 15:53:49</td>\n",
              "      <td>12-16</td>\n",
              "      <td>12</td>\n",
              "      <td>16</td>\n",
              "    </tr>\n",
              "  </tbody>\n",
              "</table>\n",
              "<p>3098 rows × 11 columns</p>\n",
              "</div>"
            ],
            "text/plain": [
              "       latitude   longitude  occupancy_status  ...   cell  row  column\n",
              "0     22.608000  114.032600                 1  ...  12-20   12      20\n",
              "1     22.608601  114.032097                 1  ...  12-20   12      20\n",
              "2     22.607599  114.029900                 1  ...  12-20   12      20\n",
              "3     22.606300  114.028099                 1  ...  12-20   12      20\n",
              "4     22.604000  114.024597                 1  ...  12-20   12      20\n",
              "...         ...         ...               ...  ...    ...  ...     ...\n",
              "3093  22.607834  113.839966                 1  ...  12-16   12      16\n",
              "3094  22.601282  113.843132                 1  ...  12-16   12      16\n",
              "3095  22.601282  113.843132                 1  ...  12-16   12      16\n",
              "3096  22.587133  113.854797                 1  ...  11-17   11      17\n",
              "3097  22.611250  113.825531                 0  ...  12-16   12      16\n",
              "\n",
              "[3098 rows x 11 columns]"
            ]
          },
          "metadata": {},
          "execution_count": 36
        }
      ]
    },
    {
      "cell_type": "code",
      "metadata": {
        "id": "yBfVAKe1Muwz"
      },
      "source": [
        "air_df.to_csv('all-air-to-train-routes-with-500-cells.csv', encoding='utf-8', index=False)\n",
        "train_df.to_csv('all-train-to-air-routes-with-500-cells.csv', encoding='utf-8', index=False)"
      ],
      "execution_count": null,
      "outputs": []
    },
    {
      "cell_type": "code",
      "metadata": {
        "id": "z-NtC-GMMuzf"
      },
      "source": [
        ""
      ],
      "execution_count": null,
      "outputs": []
    },
    {
      "cell_type": "code",
      "metadata": {
        "id": "e0yIMF2RMu2b"
      },
      "source": [
        ""
      ],
      "execution_count": null,
      "outputs": []
    },
    {
      "cell_type": "code",
      "metadata": {
        "id": "oIkV1LlUMu5G"
      },
      "source": [
        ""
      ],
      "execution_count": null,
      "outputs": []
    },
    {
      "cell_type": "code",
      "metadata": {
        "id": "D68ELCrGMu7q"
      },
      "source": [
        ""
      ],
      "execution_count": null,
      "outputs": []
    },
    {
      "cell_type": "code",
      "metadata": {
        "id": "zJBdG83jMu-M"
      },
      "source": [
        ""
      ],
      "execution_count": null,
      "outputs": []
    },
    {
      "cell_type": "code",
      "metadata": {
        "id": "u3og_LBmMvBD"
      },
      "source": [
        ""
      ],
      "execution_count": null,
      "outputs": []
    },
    {
      "cell_type": "code",
      "metadata": {
        "id": "tT1R9NNEMvDa"
      },
      "source": [
        ""
      ],
      "execution_count": null,
      "outputs": []
    },
    {
      "cell_type": "code",
      "metadata": {
        "id": "8wa0_L9mMvF_"
      },
      "source": [
        ""
      ],
      "execution_count": null,
      "outputs": []
    },
    {
      "cell_type": "code",
      "metadata": {
        "id": "EopfwNRaMvJn"
      },
      "source": [
        ""
      ],
      "execution_count": null,
      "outputs": []
    },
    {
      "cell_type": "code",
      "metadata": {
        "id": "0POP9R97MvL-"
      },
      "source": [
        ""
      ],
      "execution_count": null,
      "outputs": []
    },
    {
      "cell_type": "code",
      "metadata": {
        "id": "P513Y7BxMvOc"
      },
      "source": [
        ""
      ],
      "execution_count": null,
      "outputs": []
    },
    {
      "cell_type": "code",
      "metadata": {
        "id": "bkkxDOh8MvST"
      },
      "source": [
        ""
      ],
      "execution_count": null,
      "outputs": []
    },
    {
      "cell_type": "code",
      "metadata": {
        "id": "J_-AQk-zMvV-"
      },
      "source": [
        ""
      ],
      "execution_count": null,
      "outputs": []
    },
    {
      "cell_type": "code",
      "metadata": {
        "id": "GsyBah-UMvYj"
      },
      "source": [
        ""
      ],
      "execution_count": null,
      "outputs": []
    },
    {
      "cell_type": "code",
      "metadata": {
        "id": "wlJJzgjKMvbU"
      },
      "source": [
        ""
      ],
      "execution_count": null,
      "outputs": []
    },
    {
      "cell_type": "code",
      "metadata": {
        "id": "ZHaGrhWOMveE"
      },
      "source": [
        ""
      ],
      "execution_count": null,
      "outputs": []
    },
    {
      "cell_type": "code",
      "metadata": {
        "id": "htseLgy0Mvgr"
      },
      "source": [
        ""
      ],
      "execution_count": null,
      "outputs": []
    }
  ]
}