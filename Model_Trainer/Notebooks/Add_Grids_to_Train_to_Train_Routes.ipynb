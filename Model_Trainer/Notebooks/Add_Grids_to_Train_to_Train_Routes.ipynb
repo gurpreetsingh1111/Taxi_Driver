{
  "nbformat": 4,
  "nbformat_minor": 0,
  "metadata": {
    "colab": {
      "name": "Add Grids to Train to Train Routes.ipynb",
      "provenance": []
    },
    "kernelspec": {
      "name": "python3",
      "display_name": "Python 3"
    },
    "language_info": {
      "name": "python"
    }
  },
  "cells": [
    {
      "cell_type": "code",
      "metadata": {
        "colab": {
          "base_uri": "https://localhost:8080/"
        },
        "id": "Yo07VTmsQsOJ",
        "outputId": "028a77ac-ee67-46d9-f555-7fb7e938e66d"
      },
      "source": [
        "!pip install mpu"
      ],
      "execution_count": null,
      "outputs": [
        {
          "output_type": "stream",
          "name": "stdout",
          "text": [
            "Requirement already satisfied: mpu in /usr/local/lib/python3.7/dist-packages (0.23.1)\n"
          ]
        }
      ]
    },
    {
      "cell_type": "code",
      "metadata": {
        "id": "u3ttKTwp7jdh"
      },
      "source": [
        "import os\n",
        "import pandas as pd\n",
        "import numpy as np\n",
        "import mpu\n",
        "import matplotlib.pyplot as plt\n",
        "%matplotlib inline "
      ],
      "execution_count": null,
      "outputs": []
    },
    {
      "cell_type": "code",
      "metadata": {
        "id": "ZmUxi2xb7jgd"
      },
      "source": [
        "def find_routes_with_ten_readings(df, route_numbers, min_num_readings=10, verbose=False):\n",
        "    routes = []\n",
        "    \n",
        "    for number in route_numbers:\n",
        "        route_df = df[df['route_number'] == number]\n",
        "        \n",
        "        if len(route_df) >= min_num_readings:\n",
        "            routes.append(route_df)\n",
        "        elif verbose:\n",
        "            print('Route: ', number, ' only has ', len(route_df), ' readings!')\n",
        "    \n",
        "    print('Found', len(routes), 'routes that have', min_num_readings, 'or more readings')\n",
        "    \n",
        "    return pd.concat(routes)\n",
        "\n",
        "\n",
        "def load_csv_as_df(file_name, sub_directories, column_numbers=None, column_names=None):\n",
        "    '''\n",
        "    Load any csv as a pandas dataframe. Provide the filename, the subdirectories, and columns to read(if desired).\n",
        "    '''\n",
        "    base_path = os.getcwd()\n",
        "    full_path = base_path + sub_directories + file_name\n",
        "\n",
        "    if column_numbers is not None:\n",
        "        df = pd.read_csv(full_path, usecols=column_numbers)\n",
        "    else:\n",
        "        df = pd.read_csv(full_path)\n",
        "\n",
        "    if column_names is not None:\n",
        "        df.columns = column_names\n",
        "    \n",
        "    route_ids = df['route_number'].unique()\n",
        "    return find_routes_with_ten_readings(df, route_ids, min_num_readings=10)\n",
        "\n",
        "def lookup(s):\n",
        "    \"\"\"\n",
        "    This is an extremely fast approach to datetime parsing.\n",
        "    For large data, the same dates are often repeated. Rather than\n",
        "    re-parse these, we store all unique dates, parse them, and\n",
        "    use a lookup to convert all dates.\n",
        "    \"\"\"\n",
        "    dates = {date: pd.to_datetime(date) for date in s.unique()}\n",
        "    return s.map(dates)\n"
      ],
      "execution_count": null,
      "outputs": []
    },
    {
      "cell_type": "code",
      "metadata": {
        "id": "J59Dd7lC7jjh"
      },
      "source": [
        "def remove_routes_with_corrupt_start_end_times_and_calc_duration(df):\n",
        "    route_durations = {}\n",
        "    proper_route_numbers = []\n",
        "\n",
        "    df['time'] = lookup(df['time'])\n",
        "    route_ids = df['route_number'].unique()\n",
        "\n",
        "    for route_id in route_ids:\n",
        "        route_df = df[df['route_number'] == route_id]\n",
        "\n",
        "        start_row = route_df[route_df['route_start'] == True]\n",
        "        end_row = route_df[route_df['route_end'] == True]\n",
        "\n",
        "        has_start_and_end = True\n",
        "        if len(start_row) == 0:\n",
        "            print('No start for route: ', route_id)\n",
        "            has_start_and_end = False\n",
        "\n",
        "        if len(end_row) == 0:\n",
        "            print('No end for route: ', route_id)\n",
        "            has_start_and_end = False\n",
        "\n",
        "        if has_start_and_end:\n",
        "            start_time = start_row['time'].iloc[0]\n",
        "            end_time = end_row['time'].iloc[0]\n",
        "\n",
        "            if start_time < end_time:\n",
        "                route_duration = end_time - start_time\n",
        "                duration_in_seconds = route_duration.total_seconds()\n",
        "                route_durations[route_id] = duration_in_seconds\n",
        "                proper_route_numbers.append(route_id)\n",
        "\n",
        "    duration_df = pd.DataFrame(list(route_durations.items()), columns=['route_number', 'duration_in_seconds'])\n",
        "    return duration_df, df[df['route_number'].isin(proper_route_numbers)]\n"
      ],
      "execution_count": null,
      "outputs": []
    },
    {
      "cell_type": "code",
      "metadata": {
        "id": "Rd6y8YNAh3Lp",
        "colab": {
          "base_uri": "https://localhost:8080/",
          "height": 52
        },
        "outputId": "06a2cc2f-f96a-4280-898d-b1b5c4ff6035"
      },
      "source": [
        "# we have used this formula\n",
        "\"\"\"dlon = lon2 - lon1\n",
        "dlat = lat2 - lat1\n",
        "a = (sin(dlat/2))^2 + cos(lat1) * cos(lat2) * (sin(dlon/2))^2\n",
        "c = 2 * atan2( sqrt(a), sqrt(1-a) )\n",
        "d = R * c (where R is the radius of the Earth)\"\"\""
      ],
      "execution_count": null,
      "outputs": [
        {
          "output_type": "execute_result",
          "data": {
            "application/vnd.google.colaboratory.intrinsic+json": {
              "type": "string"
            },
            "text/plain": [
              "'dlon = lon2 - lon1\\ndlat = lat2 - lat1\\na = (sin(dlat/2))^2 + cos(lat1) * cos(lat2) * (sin(dlon/2))^2\\nc = 2 * atan2( sqrt(a), sqrt(1-a) )\\nd = R * c (where R is the radius of the Earth)'"
            ]
          },
          "metadata": {},
          "execution_count": 43
        }
      ]
    },
    {
      "cell_type": "code",
      "metadata": {
        "id": "fh4rwUZ37jmR"
      },
      "source": [
        "def distance_between_gps(gps_one, gps_two):\n",
        "    # mpu.haversine_distance((lat1, lon1), (lat2, lon2))\n",
        "    km_distance = mpu.haversine_distance((gps_one[0], gps_one[1]), (gps_two[0], gps_two[1]))\n",
        "\n",
        "    if km_distance < 0:\n",
        "        print('got negative distance that\\'s weak')\n",
        "        km_distance *= -1\n",
        "\n",
        "    return km_distance"
      ],
      "execution_count": null,
      "outputs": []
    },
    {
      "cell_type": "code",
      "source": [
        "def remove_routes_with_excessive_distances(df):\n",
        "    proper_route_numbers = []\n",
        "    df['time'] = lookup(df['time'])\n",
        "    route_ids = df['route_number'].unique()\n",
        "\n",
        "    for route_id in route_ids:\n",
        "        route_df = df[df['route_number'] == route_id]\n",
        "        route_df.sort_values('time')\n",
        "        route_df.reset_index(drop=True)\n",
        "\n",
        "        distance_sum = 0.0\n",
        "        is_first_row = True\n",
        "\n",
        "        for index, row in route_df.iterrows():\n",
        "            if not is_first_row:\n",
        "                last_row = route_df.loc[index - 1]\n",
        "                last_lat = last_row['latitude']\n",
        "                last_long = last_row['longitude']\n",
        "                last_gps = (last_lat, last_long)\n",
        "\n",
        "                current_lat = row['latitude']\n",
        "                current_long = row['longitude']\n",
        "                current_gps = (current_lat, current_long)\n",
        "\n",
        "                distance_between_rows = distance_between_gps(last_gps, current_gps)\n",
        "                distance_sum += distance_between_rows\n",
        "            else:\n",
        "                is_first_row = False\n",
        "\n",
        "        if distance_sum < 100:\n",
        "            proper_route_numbers.append(route_id)\n",
        "        else:\n",
        "            print('Route ', route_id, ' has excessive distance: ', distance_sum)\n",
        "\n",
        "    return df[df['route_number'].isin(proper_route_numbers)]"
      ],
      "metadata": {
        "id": "InEcOWwNy3LH"
      },
      "execution_count": null,
      "outputs": []
    },
    {
      "cell_type": "code",
      "metadata": {
        "id": "G2F6QT-h7jrP",
        "colab": {
          "base_uri": "https://localhost:8080/"
        },
        "outputId": "fa33638d-eae0-4148-c535-f5a9096ac1c2"
      },
      "source": [
        "north_train_df = load_csv_as_df('north-to-west-routes-no-grids.csv', '/')\n",
        "west_train_df = load_csv_as_df('west-to-north-routes-no-grids.csv', '/')\n"
      ],
      "execution_count": null,
      "outputs": [
        {
          "output_type": "stream",
          "name": "stdout",
          "text": [
            "Found 207 routes that have 10 or more readings\n",
            "Found 289 routes that have 10 or more readings\n"
          ]
        }
      ]
    },
    {
      "cell_type": "code",
      "metadata": {
        "id": "VMXBRjjO7juC"
      },
      "source": [
        "north_train_duration,north_train_df=remove_routes_with_corrupt_start_end_times_and_calc_duration(north_train_df)\n",
        "west_train_duration,west_train_df=remove_routes_with_corrupt_start_end_times_and_calc_duration(west_train_df)"
      ],
      "execution_count": null,
      "outputs": []
    },
    {
      "cell_type": "code",
      "metadata": {
        "id": "hvuUF2K07jw4",
        "colab": {
          "base_uri": "https://localhost:8080/"
        },
        "outputId": "f6fd6429-6638-497e-8961-9d21882f4212"
      },
      "source": [
        "print(len(north_train_df[\"route_number\"].unique()))\n",
        "print(len(west_train_df[\"route_number\"].unique()))"
      ],
      "execution_count": null,
      "outputs": [
        {
          "output_type": "stream",
          "name": "stdout",
          "text": [
            "197\n",
            "283\n"
          ]
        }
      ]
    },
    {
      "cell_type": "code",
      "metadata": {
        "id": "XRutezlP7jzL"
      },
      "source": [
        "max_lat = 23.0\n",
        "min_lat = 22.0\n",
        "\n",
        "min_long = 113\n",
        "max_long = 115\n",
        "\n",
        "diff_in_latitude = max_lat - min_lat\n",
        "diff_in_longitude = max_long - min_long\n",
        "\n",
        "# 20 rows\n",
        "cell_size = diff_in_latitude / 20.0"
      ],
      "execution_count": null,
      "outputs": []
    },
    {
      "cell_type": "code",
      "metadata": {
        "id": "S3A9IPsr7j2q"
      },
      "source": [
        "def concat(row, col):\n",
        "    return str(row) + '-' + str(col)\n",
        "\n",
        "\n",
        "def map_gps_to_box(latitude, longitude):\n",
        "    row_number = int((latitude - min_lat) // cell_size)\n",
        "    col_number = int((longitude - min_long) // cell_size)\n",
        "\n",
        "    if col_number < 0 or row_number < 0:\n",
        "        return -1, -1, -1\n",
        "\n",
        "    cell_number_str = str(row_number) + str(col_number)\n",
        "\n",
        "    return concat(row_number, col_number), row_number, col_number"
      ],
      "execution_count": null,
      "outputs": []
    },
    {
      "cell_type": "code",
      "source": [
        "def map_gps_to_cell(df):\n",
        "    cells = []\n",
        "    rows = []\n",
        "    cols = []\n",
        "\n",
        "    for index, row in df.iterrows():\n",
        "        lat = row['latitude']\n",
        "        long = row['longitude']\n",
        "\n",
        "        cell_number, cell_row, cell_col = map_gps_to_box(lat, long)\n",
        "\n",
        "        cells.append(cell_number)\n",
        "        cols.append(cell_col)\n",
        "        rows.append(cell_row)\n",
        "\n",
        "    df['cell'] = cells\n",
        "    df['row'] = rows\n",
        "    df['column'] = cols\n",
        "\n",
        "    return df     "
      ],
      "metadata": {
        "id": "xO8rilMfyXXG"
      },
      "execution_count": null,
      "outputs": []
    },
    {
      "cell_type": "code",
      "source": [
        "north_train_df = map_gps_to_cell(north_train_df)\n",
        "west_train_df = map_gps_to_cell(west_train_df)"
      ],
      "metadata": {
        "id": "uaT4zAH_yXZQ"
      },
      "execution_count": null,
      "outputs": []
    },
    {
      "cell_type": "code",
      "source": [
        "west_train_df.head()"
      ],
      "metadata": {
        "id": "TTk2yHB9yXcA",
        "colab": {
          "base_uri": "https://localhost:8080/",
          "height": 206
        },
        "outputId": "ace7ff68-c21a-4b10-bc85-535a2819d1d6"
      },
      "execution_count": null,
      "outputs": [
        {
          "output_type": "execute_result",
          "data": {
            "text/html": [
              "<div>\n",
              "<style scoped>\n",
              "    .dataframe tbody tr th:only-of-type {\n",
              "        vertical-align: middle;\n",
              "    }\n",
              "\n",
              "    .dataframe tbody tr th {\n",
              "        vertical-align: top;\n",
              "    }\n",
              "\n",
              "    .dataframe thead th {\n",
              "        text-align: right;\n",
              "    }\n",
              "</style>\n",
              "<table border=\"1\" class=\"dataframe\">\n",
              "  <thead>\n",
              "    <tr style=\"text-align: right;\">\n",
              "      <th></th>\n",
              "      <th>taxi_id</th>\n",
              "      <th>time</th>\n",
              "      <th>longitude</th>\n",
              "      <th>latitude</th>\n",
              "      <th>occupancy_status</th>\n",
              "      <th>speed</th>\n",
              "      <th>route_number</th>\n",
              "      <th>route_start</th>\n",
              "      <th>route_end</th>\n",
              "      <th>cell</th>\n",
              "      <th>row</th>\n",
              "      <th>column</th>\n",
              "    </tr>\n",
              "  </thead>\n",
              "  <tbody>\n",
              "    <tr>\n",
              "      <th>0</th>\n",
              "      <td>22262</td>\n",
              "      <td>2018-12-08 09:42:28</td>\n",
              "      <td>114.121231</td>\n",
              "      <td>22.547068</td>\n",
              "      <td>1</td>\n",
              "      <td>5</td>\n",
              "      <td>500264</td>\n",
              "      <td>True</td>\n",
              "      <td>False</td>\n",
              "      <td>10-22</td>\n",
              "      <td>10</td>\n",
              "      <td>22</td>\n",
              "    </tr>\n",
              "    <tr>\n",
              "      <th>1</th>\n",
              "      <td>22262</td>\n",
              "      <td>2018-12-08 09:42:58</td>\n",
              "      <td>114.123497</td>\n",
              "      <td>22.547533</td>\n",
              "      <td>1</td>\n",
              "      <td>27</td>\n",
              "      <td>500264</td>\n",
              "      <td>False</td>\n",
              "      <td>False</td>\n",
              "      <td>10-22</td>\n",
              "      <td>10</td>\n",
              "      <td>22</td>\n",
              "    </tr>\n",
              "    <tr>\n",
              "      <th>2</th>\n",
              "      <td>22262</td>\n",
              "      <td>2018-12-08 09:43:26</td>\n",
              "      <td>114.123619</td>\n",
              "      <td>22.547800</td>\n",
              "      <td>1</td>\n",
              "      <td>14</td>\n",
              "      <td>500264</td>\n",
              "      <td>False</td>\n",
              "      <td>False</td>\n",
              "      <td>10-22</td>\n",
              "      <td>10</td>\n",
              "      <td>22</td>\n",
              "    </tr>\n",
              "    <tr>\n",
              "      <th>3</th>\n",
              "      <td>22262</td>\n",
              "      <td>2018-12-08 09:43:29</td>\n",
              "      <td>114.123581</td>\n",
              "      <td>22.547783</td>\n",
              "      <td>1</td>\n",
              "      <td>0</td>\n",
              "      <td>500264</td>\n",
              "      <td>False</td>\n",
              "      <td>False</td>\n",
              "      <td>10-22</td>\n",
              "      <td>10</td>\n",
              "      <td>22</td>\n",
              "    </tr>\n",
              "    <tr>\n",
              "      <th>4</th>\n",
              "      <td>22262</td>\n",
              "      <td>2018-12-08 09:43:32</td>\n",
              "      <td>114.123535</td>\n",
              "      <td>22.547783</td>\n",
              "      <td>1</td>\n",
              "      <td>0</td>\n",
              "      <td>500264</td>\n",
              "      <td>False</td>\n",
              "      <td>False</td>\n",
              "      <td>10-22</td>\n",
              "      <td>10</td>\n",
              "      <td>22</td>\n",
              "    </tr>\n",
              "  </tbody>\n",
              "</table>\n",
              "</div>"
            ],
            "text/plain": [
              "   taxi_id                time   longitude  ...   cell  row  column\n",
              "0    22262 2018-12-08 09:42:28  114.121231  ...  10-22   10      22\n",
              "1    22262 2018-12-08 09:42:58  114.123497  ...  10-22   10      22\n",
              "2    22262 2018-12-08 09:43:26  114.123619  ...  10-22   10      22\n",
              "3    22262 2018-12-08 09:43:29  114.123581  ...  10-22   10      22\n",
              "4    22262 2018-12-08 09:43:32  114.123535  ...  10-22   10      22\n",
              "\n",
              "[5 rows x 12 columns]"
            ]
          },
          "metadata": {},
          "execution_count": 54
        }
      ]
    },
    {
      "cell_type": "code",
      "source": [
        "north_train_df.head()"
      ],
      "metadata": {
        "id": "dCXeVsfAyXfT",
        "colab": {
          "base_uri": "https://localhost:8080/",
          "height": 206
        },
        "outputId": "a2ac6637-9356-40e0-c9a1-de4719931335"
      },
      "execution_count": null,
      "outputs": [
        {
          "output_type": "execute_result",
          "data": {
            "text/html": [
              "<div>\n",
              "<style scoped>\n",
              "    .dataframe tbody tr th:only-of-type {\n",
              "        vertical-align: middle;\n",
              "    }\n",
              "\n",
              "    .dataframe tbody tr th {\n",
              "        vertical-align: top;\n",
              "    }\n",
              "\n",
              "    .dataframe thead th {\n",
              "        text-align: right;\n",
              "    }\n",
              "</style>\n",
              "<table border=\"1\" class=\"dataframe\">\n",
              "  <thead>\n",
              "    <tr style=\"text-align: right;\">\n",
              "      <th></th>\n",
              "      <th>taxi_id</th>\n",
              "      <th>time</th>\n",
              "      <th>longitude</th>\n",
              "      <th>latitude</th>\n",
              "      <th>occupancy_status</th>\n",
              "      <th>speed</th>\n",
              "      <th>route_number</th>\n",
              "      <th>route_start</th>\n",
              "      <th>route_end</th>\n",
              "      <th>cell</th>\n",
              "      <th>row</th>\n",
              "      <th>column</th>\n",
              "    </tr>\n",
              "  </thead>\n",
              "  <tbody>\n",
              "    <tr>\n",
              "      <th>0</th>\n",
              "      <td>22391</td>\n",
              "      <td>2018-12-08 22:02:44</td>\n",
              "      <td>114.026115</td>\n",
              "      <td>22.610600</td>\n",
              "      <td>1</td>\n",
              "      <td>43</td>\n",
              "      <td>501872</td>\n",
              "      <td>True</td>\n",
              "      <td>False</td>\n",
              "      <td>12-20</td>\n",
              "      <td>12</td>\n",
              "      <td>20</td>\n",
              "    </tr>\n",
              "    <tr>\n",
              "      <th>1</th>\n",
              "      <td>22391</td>\n",
              "      <td>2018-12-08 22:03:04</td>\n",
              "      <td>114.023849</td>\n",
              "      <td>22.609200</td>\n",
              "      <td>1</td>\n",
              "      <td>50</td>\n",
              "      <td>501872</td>\n",
              "      <td>False</td>\n",
              "      <td>False</td>\n",
              "      <td>12-20</td>\n",
              "      <td>12</td>\n",
              "      <td>20</td>\n",
              "    </tr>\n",
              "    <tr>\n",
              "      <th>2</th>\n",
              "      <td>22391</td>\n",
              "      <td>2018-12-08 22:03:24</td>\n",
              "      <td>114.022003</td>\n",
              "      <td>22.607018</td>\n",
              "      <td>1</td>\n",
              "      <td>58</td>\n",
              "      <td>501872</td>\n",
              "      <td>False</td>\n",
              "      <td>False</td>\n",
              "      <td>12-20</td>\n",
              "      <td>12</td>\n",
              "      <td>20</td>\n",
              "    </tr>\n",
              "    <tr>\n",
              "      <th>3</th>\n",
              "      <td>22391</td>\n",
              "      <td>2018-12-08 22:03:44</td>\n",
              "      <td>114.023666</td>\n",
              "      <td>22.604549</td>\n",
              "      <td>1</td>\n",
              "      <td>58</td>\n",
              "      <td>501872</td>\n",
              "      <td>False</td>\n",
              "      <td>False</td>\n",
              "      <td>12-20</td>\n",
              "      <td>12</td>\n",
              "      <td>20</td>\n",
              "    </tr>\n",
              "    <tr>\n",
              "      <th>4</th>\n",
              "      <td>22391</td>\n",
              "      <td>2018-12-08 22:04:04</td>\n",
              "      <td>114.025284</td>\n",
              "      <td>22.602533</td>\n",
              "      <td>1</td>\n",
              "      <td>49</td>\n",
              "      <td>501872</td>\n",
              "      <td>False</td>\n",
              "      <td>False</td>\n",
              "      <td>12-20</td>\n",
              "      <td>12</td>\n",
              "      <td>20</td>\n",
              "    </tr>\n",
              "  </tbody>\n",
              "</table>\n",
              "</div>"
            ],
            "text/plain": [
              "   taxi_id                time   longitude  ...   cell  row  column\n",
              "0    22391 2018-12-08 22:02:44  114.026115  ...  12-20   12      20\n",
              "1    22391 2018-12-08 22:03:04  114.023849  ...  12-20   12      20\n",
              "2    22391 2018-12-08 22:03:24  114.022003  ...  12-20   12      20\n",
              "3    22391 2018-12-08 22:03:44  114.023666  ...  12-20   12      20\n",
              "4    22391 2018-12-08 22:04:04  114.025284  ...  12-20   12      20\n",
              "\n",
              "[5 rows x 12 columns]"
            ]
          },
          "metadata": {},
          "execution_count": 56
        }
      ]
    },
    {
      "cell_type": "code",
      "source": [
        "north_train_df.to_csv('north-to-west-routes-with-cells.csv', encoding='utf-8', index=False)\n",
        "west_train_df.to_csv('west-to-north-routes-with-cells.csv', encoding='utf-8', index=False)\n"
      ],
      "metadata": {
        "id": "3hRmMpPlyXhi"
      },
      "execution_count": null,
      "outputs": []
    },
    {
      "cell_type": "code",
      "source": [
        ""
      ],
      "metadata": {
        "id": "hZUWQTdoyXlL"
      },
      "execution_count": null,
      "outputs": []
    }
  ]
}