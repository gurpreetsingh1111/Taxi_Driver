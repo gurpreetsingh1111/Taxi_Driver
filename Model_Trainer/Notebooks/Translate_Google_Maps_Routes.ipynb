{
  "nbformat": 4,
  "nbformat_minor": 0,
  "metadata": {
    "colab": {
      "name": "Translate-Google-Maps-Routes.ipynb.ipynb",
      "provenance": []
    },
    "kernelspec": {
      "name": "python3",
      "display_name": "Python 3"
    },
    "language_info": {
      "name": "python"
    }
  },
  "cells": [
    {
      "cell_type": "code",
      "execution_count": null,
      "metadata": {
        "id": "CY4b_IBAw8Zf"
      },
      "outputs": [],
      "source": [
        "import pandas as pd\n",
        "import os"
      ]
    },
    {
      "cell_type": "code",
      "source": [
        "def load_google_map_dfs():\n",
        "    base_path = os.getcwd()\n",
        "    dfs = []\n",
        "    column_names = ['latitude', 'longitude']\n",
        "    \n",
        "    file_names = ['North-Train-To-West-Left-Google-Maps-Route.csv',\n",
        "                  'North-Train-To-West-Middle-Google-Maps-Route.csv',\n",
        "                  'West-Train-To-North-Bottom-Google-Maps-Route.csv',\n",
        "                  'West-Train-To-North-Middle-Google-Maps-Route.csv',\n",
        "                  'West-Train-To-North-Top-Google-Maps-Route.csv'\n",
        "                  ]\n",
        "\n",
        "    for file_name in file_names:\n",
        "        df = pd.read_csv(base_path + '/' + file_name)\n",
        "        df.columns = column_names\n",
        "        dfs.append(df)\n",
        "\n",
        "    return dfs\n",
        "    "
      ],
      "metadata": {
        "id": "Xx6Ry6KQw_E8"
      },
      "execution_count": null,
      "outputs": []
    },
    {
      "cell_type": "code",
      "source": [
        "google_maps_route=load_google_map_dfs()\n"
      ],
      "metadata": {
        "id": "TsMTkxakw_In"
      },
      "execution_count": null,
      "outputs": []
    },
    {
      "cell_type": "code",
      "source": [
        "max_lat = 23.0\n",
        "min_lat = 22.0\n",
        "\n",
        "min_long = 113\n",
        "max_long = 115\n",
        "\n",
        "diff_in_latitude = max_lat - min_lat\n",
        "diff_in_longitude = max_long - min_long\n",
        "\n",
        "\n",
        "cell_size = diff_in_latitude / 20.0"
      ],
      "metadata": {
        "id": "MI-p1cvSw_LQ"
      },
      "execution_count": null,
      "outputs": []
    },
    {
      "cell_type": "code",
      "source": [
        "def concat(row, col):\n",
        "    return str(row) + '-' + str(col)\n",
        "\n",
        "\n",
        "def map_gps_to_box(latitude, longitude):\n",
        "    row_number = int((latitude - min_lat) // cell_size)\n",
        "    col_number = int((longitude - min_long) // cell_size)\n",
        "\n",
        "    if col_number < 0 or row_number < 0:\n",
        "        return -1, -1, -1\n",
        "\n",
        "    cell_number_str = str(row_number) + str(col_number)\n",
        "\n",
        "    return concat(row_number, col_number), row_number, col_number"
      ],
      "metadata": {
        "id": "8hbdtrk4w_OX"
      },
      "execution_count": null,
      "outputs": []
    },
    {
      "cell_type": "code",
      "source": [
        "def map_gps_to_cell(df):\n",
        "    cells = []\n",
        "    rows = []\n",
        "    cols = []\n",
        "\n",
        "    for index, row in df.iterrows():\n",
        "        lat = row['latitude']\n",
        "        long = row['longitude']\n",
        "\n",
        "        cell_number, cell_row, cell_col = map_gps_to_box(lat, long)\n",
        "\n",
        "        cells.append(cell_number)\n",
        "        cols.append(cell_col)\n",
        "        rows.append(cell_row)\n",
        "\n",
        "    df['cell'] = cells\n",
        "    df['row'] = rows\n",
        "    df['column'] = cols\n",
        "\n",
        "    return df"
      ],
      "metadata": {
        "id": "4oCB-JoDw_Rn"
      },
      "execution_count": null,
      "outputs": []
    },
    {
      "cell_type": "code",
      "source": [
        "def map_google_maps_routes_to_cells(df_list):\n",
        "    with_cells = []\n",
        "    for df in df_list:\n",
        "        df = map_gps_to_cell(df)\n",
        "        with_cells.append(df)\n",
        "    return with_cells"
      ],
      "metadata": {
        "id": "wssQa2Lmw_UX"
      },
      "execution_count": null,
      "outputs": []
    },
    {
      "cell_type": "code",
      "source": [
        "google_maps_with_cells = map_google_maps_routes_to_cells(google_maps_route)"
      ],
      "metadata": {
        "id": "GShcXNiBw_XT"
      },
      "execution_count": null,
      "outputs": []
    },
    {
      "cell_type": "code",
      "source": [
        "def save_google_maps_routes_with_cells(route_df_list):\n",
        "    file_names = ['North-Train-To-West-Left-Google-Maps-Route-Cells.csv',\n",
        "                  'North-Train-To-West-Middle-Google-Maps-Route-Cells.csv',\n",
        "                  'West-Train-To-North-Bottom-Google-Maps-Route-Cells.csv',\n",
        "                  'West-Train-To-North-Middle-Google-Maps-Route-Cells.csv',\n",
        "                  'West-Train-To-North-Top-Google-Maps-Route-Cells.csv'\n",
        "                  ]\n",
        "\n",
        "    for index, df in enumerate(route_df_list):\n",
        "        df.to_csv(file_names[index], encoding='utf-8', index=False)\n",
        "    \n",
        "    return"
      ],
      "metadata": {
        "id": "E9zQmEDAw_aL"
      },
      "execution_count": null,
      "outputs": []
    },
    {
      "cell_type": "code",
      "source": [
        "save_google_maps_routes_with_cells(google_maps_with_cells)"
      ],
      "metadata": {
        "id": "9vK7Rv3aw_dD"
      },
      "execution_count": null,
      "outputs": []
    },
    {
      "cell_type": "code",
      "source": [
        ""
      ],
      "metadata": {
        "id": "dhkkKlYhw_fz"
      },
      "execution_count": null,
      "outputs": []
    },
    {
      "cell_type": "code",
      "source": [
        ""
      ],
      "metadata": {
        "id": "YG5Bjb4yw_ip"
      },
      "execution_count": null,
      "outputs": []
    },
    {
      "cell_type": "code",
      "source": [
        ""
      ],
      "metadata": {
        "id": "YTB4cwx5w_ln"
      },
      "execution_count": null,
      "outputs": []
    },
    {
      "cell_type": "code",
      "source": [
        ""
      ],
      "metadata": {
        "id": "z25i5FcOw_oZ"
      },
      "execution_count": null,
      "outputs": []
    },
    {
      "cell_type": "code",
      "source": [
        ""
      ],
      "metadata": {
        "id": "471kpB_jw_rJ"
      },
      "execution_count": null,
      "outputs": []
    },
    {
      "cell_type": "code",
      "source": [
        ""
      ],
      "metadata": {
        "id": "aUvWyfgbw_t_"
      },
      "execution_count": null,
      "outputs": []
    },
    {
      "cell_type": "code",
      "source": [
        ""
      ],
      "metadata": {
        "id": "bblk1ASZw_xD"
      },
      "execution_count": null,
      "outputs": []
    },
    {
      "cell_type": "code",
      "source": [
        ""
      ],
      "metadata": {
        "id": "hCNJsqMxw_zs"
      },
      "execution_count": null,
      "outputs": []
    },
    {
      "cell_type": "code",
      "source": [
        ""
      ],
      "metadata": {
        "id": "unqQJrXbw_21"
      },
      "execution_count": null,
      "outputs": []
    },
    {
      "cell_type": "code",
      "source": [
        ""
      ],
      "metadata": {
        "id": "ff3a1dnFw_55"
      },
      "execution_count": null,
      "outputs": []
    },
    {
      "cell_type": "code",
      "source": [
        ""
      ],
      "metadata": {
        "id": "1h4W3aKJw_8k"
      },
      "execution_count": null,
      "outputs": []
    },
    {
      "cell_type": "code",
      "source": [
        ""
      ],
      "metadata": {
        "id": "plyluDSGxABJ"
      },
      "execution_count": null,
      "outputs": []
    },
    {
      "cell_type": "code",
      "source": [
        ""
      ],
      "metadata": {
        "id": "vm063HNOxAEi"
      },
      "execution_count": null,
      "outputs": []
    },
    {
      "cell_type": "code",
      "source": [
        ""
      ],
      "metadata": {
        "id": "fhtfqyRexAGv"
      },
      "execution_count": null,
      "outputs": []
    },
    {
      "cell_type": "code",
      "source": [
        ""
      ],
      "metadata": {
        "id": "d48vXJbCxAKU"
      },
      "execution_count": null,
      "outputs": []
    }
  ]
}